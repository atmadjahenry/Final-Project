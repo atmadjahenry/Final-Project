{
 "cells": [
  {
   "cell_type": "code",
   "execution_count": 1,
   "metadata": {},
   "outputs": [],
   "source": [
    "import pandas as pd\n",
    "import numpy as np\n",
    "import matplotlib.pyplot as plt\n",
    "import seaborn as sns\n",
    "\n",
    "\n",
    "import warnings\n",
    "warnings.filterwarnings('ignore')"
   ]
  },
  {
   "cell_type": "code",
   "execution_count": 2,
   "metadata": {},
   "outputs": [
    {
     "data": {
      "text/html": [
       "<div>\n",
       "<style scoped>\n",
       "    .dataframe tbody tr th:only-of-type {\n",
       "        vertical-align: middle;\n",
       "    }\n",
       "\n",
       "    .dataframe tbody tr th {\n",
       "        vertical-align: top;\n",
       "    }\n",
       "\n",
       "    .dataframe thead th {\n",
       "        text-align: right;\n",
       "    }\n",
       "</style>\n",
       "<table border=\"1\" class=\"dataframe\">\n",
       "  <thead>\n",
       "    <tr style=\"text-align: right;\">\n",
       "      <th></th>\n",
       "      <th>Loan ID</th>\n",
       "      <th>Customer ID</th>\n",
       "      <th>Loan Status</th>\n",
       "      <th>Current Loan Amount</th>\n",
       "      <th>Term</th>\n",
       "      <th>Credit Score</th>\n",
       "      <th>Annual Income</th>\n",
       "      <th>Years in current job</th>\n",
       "      <th>Home Ownership</th>\n",
       "      <th>Purpose</th>\n",
       "      <th>Monthly Debt</th>\n",
       "      <th>Years of Credit History</th>\n",
       "      <th>Months since last delinquent</th>\n",
       "      <th>Number of Open Accounts</th>\n",
       "      <th>Number of Credit Problems</th>\n",
       "      <th>Current Credit Balance</th>\n",
       "      <th>Maximum Open Credit</th>\n",
       "      <th>Bankruptcies</th>\n",
       "      <th>Tax Liens</th>\n",
       "    </tr>\n",
       "  </thead>\n",
       "  <tbody>\n",
       "    <tr>\n",
       "      <th>0</th>\n",
       "      <td>14dd8831-6af5-400b-83ec-68e61888a048</td>\n",
       "      <td>981165ec-3274-42f5-a3b4-d104041a9ca9</td>\n",
       "      <td>Fully Paid</td>\n",
       "      <td>445412.0</td>\n",
       "      <td>Short Term</td>\n",
       "      <td>709.0</td>\n",
       "      <td>1167493.0</td>\n",
       "      <td>8 years</td>\n",
       "      <td>Home Mortgage</td>\n",
       "      <td>Home Improvements</td>\n",
       "      <td>5214.74</td>\n",
       "      <td>17.2</td>\n",
       "      <td>NaN</td>\n",
       "      <td>6.0</td>\n",
       "      <td>1.0</td>\n",
       "      <td>228190.0</td>\n",
       "      <td>416746.0</td>\n",
       "      <td>1.0</td>\n",
       "      <td>0.0</td>\n",
       "    </tr>\n",
       "    <tr>\n",
       "      <th>1</th>\n",
       "      <td>4771cc26-131a-45db-b5aa-537ea4ba5342</td>\n",
       "      <td>2de017a3-2e01-49cb-a581-08169e83be29</td>\n",
       "      <td>Fully Paid</td>\n",
       "      <td>262328.0</td>\n",
       "      <td>Short Term</td>\n",
       "      <td>NaN</td>\n",
       "      <td>NaN</td>\n",
       "      <td>10+ years</td>\n",
       "      <td>Home Mortgage</td>\n",
       "      <td>Debt Consolidation</td>\n",
       "      <td>33295.98</td>\n",
       "      <td>21.1</td>\n",
       "      <td>8.0</td>\n",
       "      <td>35.0</td>\n",
       "      <td>0.0</td>\n",
       "      <td>229976.0</td>\n",
       "      <td>850784.0</td>\n",
       "      <td>0.0</td>\n",
       "      <td>0.0</td>\n",
       "    </tr>\n",
       "    <tr>\n",
       "      <th>2</th>\n",
       "      <td>4eed4e6a-aa2f-4c91-8651-ce984ee8fb26</td>\n",
       "      <td>5efb2b2b-bf11-4dfd-a572-3761a2694725</td>\n",
       "      <td>Fully Paid</td>\n",
       "      <td>99999999.0</td>\n",
       "      <td>Short Term</td>\n",
       "      <td>741.0</td>\n",
       "      <td>2231892.0</td>\n",
       "      <td>8 years</td>\n",
       "      <td>Own Home</td>\n",
       "      <td>Debt Consolidation</td>\n",
       "      <td>29200.53</td>\n",
       "      <td>14.9</td>\n",
       "      <td>29.0</td>\n",
       "      <td>18.0</td>\n",
       "      <td>1.0</td>\n",
       "      <td>297996.0</td>\n",
       "      <td>750090.0</td>\n",
       "      <td>0.0</td>\n",
       "      <td>0.0</td>\n",
       "    </tr>\n",
       "    <tr>\n",
       "      <th>3</th>\n",
       "      <td>77598f7b-32e7-4e3b-a6e5-06ba0d98fe8a</td>\n",
       "      <td>e777faab-98ae-45af-9a86-7ce5b33b1011</td>\n",
       "      <td>Fully Paid</td>\n",
       "      <td>347666.0</td>\n",
       "      <td>Long Term</td>\n",
       "      <td>721.0</td>\n",
       "      <td>806949.0</td>\n",
       "      <td>3 years</td>\n",
       "      <td>Own Home</td>\n",
       "      <td>Debt Consolidation</td>\n",
       "      <td>8741.90</td>\n",
       "      <td>12.0</td>\n",
       "      <td>NaN</td>\n",
       "      <td>9.0</td>\n",
       "      <td>0.0</td>\n",
       "      <td>256329.0</td>\n",
       "      <td>386958.0</td>\n",
       "      <td>0.0</td>\n",
       "      <td>0.0</td>\n",
       "    </tr>\n",
       "    <tr>\n",
       "      <th>4</th>\n",
       "      <td>d4062e70-befa-4995-8643-a0de73938182</td>\n",
       "      <td>81536ad9-5ccf-4eb8-befb-47a4d608658e</td>\n",
       "      <td>Fully Paid</td>\n",
       "      <td>176220.0</td>\n",
       "      <td>Short Term</td>\n",
       "      <td>NaN</td>\n",
       "      <td>NaN</td>\n",
       "      <td>5 years</td>\n",
       "      <td>Rent</td>\n",
       "      <td>Debt Consolidation</td>\n",
       "      <td>20639.70</td>\n",
       "      <td>6.1</td>\n",
       "      <td>NaN</td>\n",
       "      <td>15.0</td>\n",
       "      <td>0.0</td>\n",
       "      <td>253460.0</td>\n",
       "      <td>427174.0</td>\n",
       "      <td>0.0</td>\n",
       "      <td>0.0</td>\n",
       "    </tr>\n",
       "  </tbody>\n",
       "</table>\n",
       "</div>"
      ],
      "text/plain": [
       "                                Loan ID                           Customer ID  \\\n",
       "0  14dd8831-6af5-400b-83ec-68e61888a048  981165ec-3274-42f5-a3b4-d104041a9ca9   \n",
       "1  4771cc26-131a-45db-b5aa-537ea4ba5342  2de017a3-2e01-49cb-a581-08169e83be29   \n",
       "2  4eed4e6a-aa2f-4c91-8651-ce984ee8fb26  5efb2b2b-bf11-4dfd-a572-3761a2694725   \n",
       "3  77598f7b-32e7-4e3b-a6e5-06ba0d98fe8a  e777faab-98ae-45af-9a86-7ce5b33b1011   \n",
       "4  d4062e70-befa-4995-8643-a0de73938182  81536ad9-5ccf-4eb8-befb-47a4d608658e   \n",
       "\n",
       "  Loan Status  Current Loan Amount        Term  Credit Score  Annual Income  \\\n",
       "0  Fully Paid             445412.0  Short Term         709.0      1167493.0   \n",
       "1  Fully Paid             262328.0  Short Term           NaN            NaN   \n",
       "2  Fully Paid           99999999.0  Short Term         741.0      2231892.0   \n",
       "3  Fully Paid             347666.0   Long Term         721.0       806949.0   \n",
       "4  Fully Paid             176220.0  Short Term           NaN            NaN   \n",
       "\n",
       "  Years in current job Home Ownership             Purpose  Monthly Debt  \\\n",
       "0              8 years  Home Mortgage   Home Improvements       5214.74   \n",
       "1            10+ years  Home Mortgage  Debt Consolidation      33295.98   \n",
       "2              8 years       Own Home  Debt Consolidation      29200.53   \n",
       "3              3 years       Own Home  Debt Consolidation       8741.90   \n",
       "4              5 years           Rent  Debt Consolidation      20639.70   \n",
       "\n",
       "   Years of Credit History  Months since last delinquent  \\\n",
       "0                     17.2                           NaN   \n",
       "1                     21.1                           8.0   \n",
       "2                     14.9                          29.0   \n",
       "3                     12.0                           NaN   \n",
       "4                      6.1                           NaN   \n",
       "\n",
       "   Number of Open Accounts  Number of Credit Problems  Current Credit Balance  \\\n",
       "0                      6.0                        1.0                228190.0   \n",
       "1                     35.0                        0.0                229976.0   \n",
       "2                     18.0                        1.0                297996.0   \n",
       "3                      9.0                        0.0                256329.0   \n",
       "4                     15.0                        0.0                253460.0   \n",
       "\n",
       "   Maximum Open Credit  Bankruptcies  Tax Liens  \n",
       "0             416746.0           1.0        0.0  \n",
       "1             850784.0           0.0        0.0  \n",
       "2             750090.0           0.0        0.0  \n",
       "3             386958.0           0.0        0.0  \n",
       "4             427174.0           0.0        0.0  "
      ]
     },
     "execution_count": 2,
     "metadata": {},
     "output_type": "execute_result"
    }
   ],
   "source": [
    "train = pd.read_csv('credit_train.csv')\n",
    "train.head()"
   ]
  },
  {
   "cell_type": "code",
   "execution_count": 3,
   "metadata": {},
   "outputs": [
    {
     "data": {
      "text/plain": [
       "(100514, 19)"
      ]
     },
     "execution_count": 3,
     "metadata": {},
     "output_type": "execute_result"
    }
   ],
   "source": [
    "train.shape"
   ]
  },
  {
   "cell_type": "code",
   "execution_count": 4,
   "metadata": {},
   "outputs": [
    {
     "name": "stdout",
     "output_type": "stream",
     "text": [
      "<class 'pandas.core.frame.DataFrame'>\n",
      "RangeIndex: 100514 entries, 0 to 100513\n",
      "Data columns (total 19 columns):\n",
      " #   Column                        Non-Null Count   Dtype  \n",
      "---  ------                        --------------   -----  \n",
      " 0   Loan ID                       100000 non-null  object \n",
      " 1   Customer ID                   100000 non-null  object \n",
      " 2   Loan Status                   100000 non-null  object \n",
      " 3   Current Loan Amount           100000 non-null  float64\n",
      " 4   Term                          100000 non-null  object \n",
      " 5   Credit Score                  80846 non-null   float64\n",
      " 6   Annual Income                 80846 non-null   float64\n",
      " 7   Years in current job          95778 non-null   object \n",
      " 8   Home Ownership                100000 non-null  object \n",
      " 9   Purpose                       100000 non-null  object \n",
      " 10  Monthly Debt                  100000 non-null  float64\n",
      " 11  Years of Credit History       100000 non-null  float64\n",
      " 12  Months since last delinquent  46859 non-null   float64\n",
      " 13  Number of Open Accounts       100000 non-null  float64\n",
      " 14  Number of Credit Problems     100000 non-null  float64\n",
      " 15  Current Credit Balance        100000 non-null  float64\n",
      " 16  Maximum Open Credit           99998 non-null   float64\n",
      " 17  Bankruptcies                  99796 non-null   float64\n",
      " 18  Tax Liens                     99990 non-null   float64\n",
      "dtypes: float64(12), object(7)\n",
      "memory usage: 14.6+ MB\n"
     ]
    }
   ],
   "source": [
    "train.info()"
   ]
  },
  {
   "cell_type": "code",
   "execution_count": 5,
   "metadata": {},
   "outputs": [
    {
     "data": {
      "text/plain": [
       "Loan ID                           514\n",
       "Customer ID                       514\n",
       "Loan Status                       514\n",
       "Current Loan Amount               514\n",
       "Term                              514\n",
       "Credit Score                    19668\n",
       "Annual Income                   19668\n",
       "Years in current job             4736\n",
       "Home Ownership                    514\n",
       "Purpose                           514\n",
       "Monthly Debt                      514\n",
       "Years of Credit History           514\n",
       "Months since last delinquent    53655\n",
       "Number of Open Accounts           514\n",
       "Number of Credit Problems         514\n",
       "Current Credit Balance            514\n",
       "Maximum Open Credit               516\n",
       "Bankruptcies                      718\n",
       "Tax Liens                         524\n",
       "dtype: int64"
      ]
     },
     "execution_count": 5,
     "metadata": {},
     "output_type": "execute_result"
    }
   ],
   "source": [
    "train.isna().sum()"
   ]
  },
  {
   "cell_type": "code",
   "execution_count": 6,
   "metadata": {},
   "outputs": [
    {
     "data": {
      "text/html": [
       "<div>\n",
       "<style scoped>\n",
       "    .dataframe tbody tr th:only-of-type {\n",
       "        vertical-align: middle;\n",
       "    }\n",
       "\n",
       "    .dataframe tbody tr th {\n",
       "        vertical-align: top;\n",
       "    }\n",
       "\n",
       "    .dataframe thead th {\n",
       "        text-align: right;\n",
       "    }\n",
       "</style>\n",
       "<table border=\"1\" class=\"dataframe\">\n",
       "  <thead>\n",
       "    <tr style=\"text-align: right;\">\n",
       "      <th></th>\n",
       "      <th>Loan ID</th>\n",
       "      <th>Customer ID</th>\n",
       "      <th>Loan Status</th>\n",
       "      <th>Current Loan Amount</th>\n",
       "      <th>Term</th>\n",
       "      <th>Credit Score</th>\n",
       "      <th>Annual Income</th>\n",
       "      <th>Years in current job</th>\n",
       "      <th>Home Ownership</th>\n",
       "      <th>Purpose</th>\n",
       "      <th>Monthly Debt</th>\n",
       "      <th>Years of Credit History</th>\n",
       "      <th>Months since last delinquent</th>\n",
       "      <th>Number of Open Accounts</th>\n",
       "      <th>Number of Credit Problems</th>\n",
       "      <th>Current Credit Balance</th>\n",
       "      <th>Maximum Open Credit</th>\n",
       "      <th>Bankruptcies</th>\n",
       "      <th>Tax Liens</th>\n",
       "    </tr>\n",
       "  </thead>\n",
       "  <tbody>\n",
       "    <tr>\n",
       "      <th>100509</th>\n",
       "      <td>NaN</td>\n",
       "      <td>NaN</td>\n",
       "      <td>NaN</td>\n",
       "      <td>NaN</td>\n",
       "      <td>NaN</td>\n",
       "      <td>NaN</td>\n",
       "      <td>NaN</td>\n",
       "      <td>NaN</td>\n",
       "      <td>NaN</td>\n",
       "      <td>NaN</td>\n",
       "      <td>NaN</td>\n",
       "      <td>NaN</td>\n",
       "      <td>NaN</td>\n",
       "      <td>NaN</td>\n",
       "      <td>NaN</td>\n",
       "      <td>NaN</td>\n",
       "      <td>NaN</td>\n",
       "      <td>NaN</td>\n",
       "      <td>NaN</td>\n",
       "    </tr>\n",
       "    <tr>\n",
       "      <th>100510</th>\n",
       "      <td>NaN</td>\n",
       "      <td>NaN</td>\n",
       "      <td>NaN</td>\n",
       "      <td>NaN</td>\n",
       "      <td>NaN</td>\n",
       "      <td>NaN</td>\n",
       "      <td>NaN</td>\n",
       "      <td>NaN</td>\n",
       "      <td>NaN</td>\n",
       "      <td>NaN</td>\n",
       "      <td>NaN</td>\n",
       "      <td>NaN</td>\n",
       "      <td>NaN</td>\n",
       "      <td>NaN</td>\n",
       "      <td>NaN</td>\n",
       "      <td>NaN</td>\n",
       "      <td>NaN</td>\n",
       "      <td>NaN</td>\n",
       "      <td>NaN</td>\n",
       "    </tr>\n",
       "    <tr>\n",
       "      <th>100511</th>\n",
       "      <td>NaN</td>\n",
       "      <td>NaN</td>\n",
       "      <td>NaN</td>\n",
       "      <td>NaN</td>\n",
       "      <td>NaN</td>\n",
       "      <td>NaN</td>\n",
       "      <td>NaN</td>\n",
       "      <td>NaN</td>\n",
       "      <td>NaN</td>\n",
       "      <td>NaN</td>\n",
       "      <td>NaN</td>\n",
       "      <td>NaN</td>\n",
       "      <td>NaN</td>\n",
       "      <td>NaN</td>\n",
       "      <td>NaN</td>\n",
       "      <td>NaN</td>\n",
       "      <td>NaN</td>\n",
       "      <td>NaN</td>\n",
       "      <td>NaN</td>\n",
       "    </tr>\n",
       "    <tr>\n",
       "      <th>100512</th>\n",
       "      <td>NaN</td>\n",
       "      <td>NaN</td>\n",
       "      <td>NaN</td>\n",
       "      <td>NaN</td>\n",
       "      <td>NaN</td>\n",
       "      <td>NaN</td>\n",
       "      <td>NaN</td>\n",
       "      <td>NaN</td>\n",
       "      <td>NaN</td>\n",
       "      <td>NaN</td>\n",
       "      <td>NaN</td>\n",
       "      <td>NaN</td>\n",
       "      <td>NaN</td>\n",
       "      <td>NaN</td>\n",
       "      <td>NaN</td>\n",
       "      <td>NaN</td>\n",
       "      <td>NaN</td>\n",
       "      <td>NaN</td>\n",
       "      <td>NaN</td>\n",
       "    </tr>\n",
       "    <tr>\n",
       "      <th>100513</th>\n",
       "      <td>NaN</td>\n",
       "      <td>NaN</td>\n",
       "      <td>NaN</td>\n",
       "      <td>NaN</td>\n",
       "      <td>NaN</td>\n",
       "      <td>NaN</td>\n",
       "      <td>NaN</td>\n",
       "      <td>NaN</td>\n",
       "      <td>NaN</td>\n",
       "      <td>NaN</td>\n",
       "      <td>NaN</td>\n",
       "      <td>NaN</td>\n",
       "      <td>NaN</td>\n",
       "      <td>NaN</td>\n",
       "      <td>NaN</td>\n",
       "      <td>NaN</td>\n",
       "      <td>NaN</td>\n",
       "      <td>NaN</td>\n",
       "      <td>NaN</td>\n",
       "    </tr>\n",
       "  </tbody>\n",
       "</table>\n",
       "</div>"
      ],
      "text/plain": [
       "       Loan ID Customer ID Loan Status  Current Loan Amount Term  \\\n",
       "100509     NaN         NaN         NaN                  NaN  NaN   \n",
       "100510     NaN         NaN         NaN                  NaN  NaN   \n",
       "100511     NaN         NaN         NaN                  NaN  NaN   \n",
       "100512     NaN         NaN         NaN                  NaN  NaN   \n",
       "100513     NaN         NaN         NaN                  NaN  NaN   \n",
       "\n",
       "        Credit Score  Annual Income Years in current job Home Ownership  \\\n",
       "100509           NaN            NaN                  NaN            NaN   \n",
       "100510           NaN            NaN                  NaN            NaN   \n",
       "100511           NaN            NaN                  NaN            NaN   \n",
       "100512           NaN            NaN                  NaN            NaN   \n",
       "100513           NaN            NaN                  NaN            NaN   \n",
       "\n",
       "       Purpose  Monthly Debt  Years of Credit History  \\\n",
       "100509     NaN           NaN                      NaN   \n",
       "100510     NaN           NaN                      NaN   \n",
       "100511     NaN           NaN                      NaN   \n",
       "100512     NaN           NaN                      NaN   \n",
       "100513     NaN           NaN                      NaN   \n",
       "\n",
       "        Months since last delinquent  Number of Open Accounts  \\\n",
       "100509                           NaN                      NaN   \n",
       "100510                           NaN                      NaN   \n",
       "100511                           NaN                      NaN   \n",
       "100512                           NaN                      NaN   \n",
       "100513                           NaN                      NaN   \n",
       "\n",
       "        Number of Credit Problems  Current Credit Balance  \\\n",
       "100509                        NaN                     NaN   \n",
       "100510                        NaN                     NaN   \n",
       "100511                        NaN                     NaN   \n",
       "100512                        NaN                     NaN   \n",
       "100513                        NaN                     NaN   \n",
       "\n",
       "        Maximum Open Credit  Bankruptcies  Tax Liens  \n",
       "100509                  NaN           NaN        NaN  \n",
       "100510                  NaN           NaN        NaN  \n",
       "100511                  NaN           NaN        NaN  \n",
       "100512                  NaN           NaN        NaN  \n",
       "100513                  NaN           NaN        NaN  "
      ]
     },
     "execution_count": 6,
     "metadata": {},
     "output_type": "execute_result"
    }
   ],
   "source": [
    "train.tail()"
   ]
  },
  {
   "cell_type": "markdown",
   "metadata": {},
   "source": [
    "Terdapat row yang hanya berisi missing value, delete row yang semuanya berisi missing value"
   ]
  },
  {
   "cell_type": "code",
   "execution_count": 7,
   "metadata": {},
   "outputs": [],
   "source": [
    "train = train[train.isna().all(axis=1)==False]"
   ]
  },
  {
   "cell_type": "code",
   "execution_count": 8,
   "metadata": {},
   "outputs": [
    {
     "data": {
      "text/plain": [
       "Loan ID                         0.00000\n",
       "Customer ID                     0.00000\n",
       "Loan Status                     0.00000\n",
       "Current Loan Amount             0.00000\n",
       "Term                            0.00000\n",
       "Credit Score                    0.19154\n",
       "Annual Income                   0.19154\n",
       "Years in current job            0.04222\n",
       "Home Ownership                  0.00000\n",
       "Purpose                         0.00000\n",
       "Monthly Debt                    0.00000\n",
       "Years of Credit History         0.00000\n",
       "Months since last delinquent    0.53141\n",
       "Number of Open Accounts         0.00000\n",
       "Number of Credit Problems       0.00000\n",
       "Current Credit Balance          0.00000\n",
       "Maximum Open Credit             0.00002\n",
       "Bankruptcies                    0.00204\n",
       "Tax Liens                       0.00010\n",
       "dtype: float64"
      ]
     },
     "execution_count": 8,
     "metadata": {},
     "output_type": "execute_result"
    }
   ],
   "source": [
    "train.isna().sum()/len(train)"
   ]
  },
  {
   "cell_type": "code",
   "execution_count": 9,
   "metadata": {},
   "outputs": [],
   "source": [
    "train.columns = train.columns.str.lower()"
   ]
  },
  {
   "cell_type": "code",
   "execution_count": 10,
   "metadata": {},
   "outputs": [],
   "source": [
    "# Delete kolom months since last delinquent karena missing valuenya lebih dari 50%\n",
    "\n",
    "train.drop('months since last delinquent', axis=1, inplace=True)"
   ]
  },
  {
   "cell_type": "code",
   "execution_count": 11,
   "metadata": {},
   "outputs": [],
   "source": [
    "def report(df):\n",
    "    col = []\n",
    "    d_type = []\n",
    "    uniques = []\n",
    "    n_uniques = []\n",
    "    \n",
    "    for i in df.columns:\n",
    "        col.append(i)\n",
    "        d_type.append(df[i].dtypes)\n",
    "        uniques.append(df[i].unique()[:5])\n",
    "        n_uniques.append(df[i].nunique())\n",
    "    \n",
    "    return pd.DataFrame({'Column': col, 'd_type': d_type, 'unique_sample': uniques, 'n_uniques': n_uniques})"
   ]
  },
  {
   "cell_type": "code",
   "execution_count": 12,
   "metadata": {},
   "outputs": [
    {
     "data": {
      "text/html": [
       "<div>\n",
       "<style scoped>\n",
       "    .dataframe tbody tr th:only-of-type {\n",
       "        vertical-align: middle;\n",
       "    }\n",
       "\n",
       "    .dataframe tbody tr th {\n",
       "        vertical-align: top;\n",
       "    }\n",
       "\n",
       "    .dataframe thead th {\n",
       "        text-align: right;\n",
       "    }\n",
       "</style>\n",
       "<table border=\"1\" class=\"dataframe\">\n",
       "  <thead>\n",
       "    <tr style=\"text-align: right;\">\n",
       "      <th></th>\n",
       "      <th>Column</th>\n",
       "      <th>d_type</th>\n",
       "      <th>unique_sample</th>\n",
       "      <th>n_uniques</th>\n",
       "    </tr>\n",
       "  </thead>\n",
       "  <tbody>\n",
       "    <tr>\n",
       "      <th>0</th>\n",
       "      <td>loan id</td>\n",
       "      <td>object</td>\n",
       "      <td>[14dd8831-6af5-400b-83ec-68e61888a048, 4771cc2...</td>\n",
       "      <td>81999</td>\n",
       "    </tr>\n",
       "    <tr>\n",
       "      <th>1</th>\n",
       "      <td>customer id</td>\n",
       "      <td>object</td>\n",
       "      <td>[981165ec-3274-42f5-a3b4-d104041a9ca9, 2de017a...</td>\n",
       "      <td>81999</td>\n",
       "    </tr>\n",
       "    <tr>\n",
       "      <th>2</th>\n",
       "      <td>loan status</td>\n",
       "      <td>object</td>\n",
       "      <td>[Fully Paid, Charged Off]</td>\n",
       "      <td>2</td>\n",
       "    </tr>\n",
       "    <tr>\n",
       "      <th>3</th>\n",
       "      <td>current loan amount</td>\n",
       "      <td>float64</td>\n",
       "      <td>[445412.0, 262328.0, 99999999.0, 347666.0, 176...</td>\n",
       "      <td>22004</td>\n",
       "    </tr>\n",
       "    <tr>\n",
       "      <th>4</th>\n",
       "      <td>term</td>\n",
       "      <td>object</td>\n",
       "      <td>[Short Term, Long Term]</td>\n",
       "      <td>2</td>\n",
       "    </tr>\n",
       "    <tr>\n",
       "      <th>5</th>\n",
       "      <td>credit score</td>\n",
       "      <td>float64</td>\n",
       "      <td>[709.0, nan, 741.0, 721.0, 7290.0]</td>\n",
       "      <td>324</td>\n",
       "    </tr>\n",
       "    <tr>\n",
       "      <th>6</th>\n",
       "      <td>annual income</td>\n",
       "      <td>float64</td>\n",
       "      <td>[1167493.0, nan, 2231892.0, 806949.0, 896857.0]</td>\n",
       "      <td>36174</td>\n",
       "    </tr>\n",
       "    <tr>\n",
       "      <th>7</th>\n",
       "      <td>years in current job</td>\n",
       "      <td>object</td>\n",
       "      <td>[8 years, 10+ years, 3 years, 5 years, &lt; 1 year]</td>\n",
       "      <td>11</td>\n",
       "    </tr>\n",
       "    <tr>\n",
       "      <th>8</th>\n",
       "      <td>home ownership</td>\n",
       "      <td>object</td>\n",
       "      <td>[Home Mortgage, Own Home, Rent, HaveMortgage]</td>\n",
       "      <td>4</td>\n",
       "    </tr>\n",
       "    <tr>\n",
       "      <th>9</th>\n",
       "      <td>purpose</td>\n",
       "      <td>object</td>\n",
       "      <td>[Home Improvements, Debt Consolidation, Buy Ho...</td>\n",
       "      <td>16</td>\n",
       "    </tr>\n",
       "    <tr>\n",
       "      <th>10</th>\n",
       "      <td>monthly debt</td>\n",
       "      <td>float64</td>\n",
       "      <td>[5214.74, 33295.98, 29200.53, 8741.9, 20639.7]</td>\n",
       "      <td>65765</td>\n",
       "    </tr>\n",
       "    <tr>\n",
       "      <th>11</th>\n",
       "      <td>years of credit history</td>\n",
       "      <td>float64</td>\n",
       "      <td>[17.2, 21.1, 14.9, 12.0, 6.1]</td>\n",
       "      <td>506</td>\n",
       "    </tr>\n",
       "    <tr>\n",
       "      <th>12</th>\n",
       "      <td>number of open accounts</td>\n",
       "      <td>float64</td>\n",
       "      <td>[6.0, 35.0, 18.0, 9.0, 15.0]</td>\n",
       "      <td>51</td>\n",
       "    </tr>\n",
       "    <tr>\n",
       "      <th>13</th>\n",
       "      <td>number of credit problems</td>\n",
       "      <td>float64</td>\n",
       "      <td>[1.0, 0.0, 2.0, 5.0, 4.0]</td>\n",
       "      <td>14</td>\n",
       "    </tr>\n",
       "    <tr>\n",
       "      <th>14</th>\n",
       "      <td>current credit balance</td>\n",
       "      <td>float64</td>\n",
       "      <td>[228190.0, 229976.0, 297996.0, 256329.0, 25346...</td>\n",
       "      <td>32730</td>\n",
       "    </tr>\n",
       "    <tr>\n",
       "      <th>15</th>\n",
       "      <td>maximum open credit</td>\n",
       "      <td>float64</td>\n",
       "      <td>[416746.0, 850784.0, 750090.0, 386958.0, 42717...</td>\n",
       "      <td>44596</td>\n",
       "    </tr>\n",
       "    <tr>\n",
       "      <th>16</th>\n",
       "      <td>bankruptcies</td>\n",
       "      <td>float64</td>\n",
       "      <td>[1.0, 0.0, 2.0, 3.0, nan]</td>\n",
       "      <td>8</td>\n",
       "    </tr>\n",
       "    <tr>\n",
       "      <th>17</th>\n",
       "      <td>tax liens</td>\n",
       "      <td>float64</td>\n",
       "      <td>[0.0, 1.0, 2.0, 4.0, 3.0]</td>\n",
       "      <td>12</td>\n",
       "    </tr>\n",
       "  </tbody>\n",
       "</table>\n",
       "</div>"
      ],
      "text/plain": [
       "                       Column   d_type  \\\n",
       "0                     loan id   object   \n",
       "1                 customer id   object   \n",
       "2                 loan status   object   \n",
       "3         current loan amount  float64   \n",
       "4                        term   object   \n",
       "5                credit score  float64   \n",
       "6               annual income  float64   \n",
       "7        years in current job   object   \n",
       "8              home ownership   object   \n",
       "9                     purpose   object   \n",
       "10               monthly debt  float64   \n",
       "11    years of credit history  float64   \n",
       "12    number of open accounts  float64   \n",
       "13  number of credit problems  float64   \n",
       "14     current credit balance  float64   \n",
       "15        maximum open credit  float64   \n",
       "16               bankruptcies  float64   \n",
       "17                  tax liens  float64   \n",
       "\n",
       "                                        unique_sample  n_uniques  \n",
       "0   [14dd8831-6af5-400b-83ec-68e61888a048, 4771cc2...      81999  \n",
       "1   [981165ec-3274-42f5-a3b4-d104041a9ca9, 2de017a...      81999  \n",
       "2                           [Fully Paid, Charged Off]          2  \n",
       "3   [445412.0, 262328.0, 99999999.0, 347666.0, 176...      22004  \n",
       "4                             [Short Term, Long Term]          2  \n",
       "5                  [709.0, nan, 741.0, 721.0, 7290.0]        324  \n",
       "6     [1167493.0, nan, 2231892.0, 806949.0, 896857.0]      36174  \n",
       "7    [8 years, 10+ years, 3 years, 5 years, < 1 year]         11  \n",
       "8       [Home Mortgage, Own Home, Rent, HaveMortgage]          4  \n",
       "9   [Home Improvements, Debt Consolidation, Buy Ho...         16  \n",
       "10     [5214.74, 33295.98, 29200.53, 8741.9, 20639.7]      65765  \n",
       "11                      [17.2, 21.1, 14.9, 12.0, 6.1]        506  \n",
       "12                       [6.0, 35.0, 18.0, 9.0, 15.0]         51  \n",
       "13                          [1.0, 0.0, 2.0, 5.0, 4.0]         14  \n",
       "14  [228190.0, 229976.0, 297996.0, 256329.0, 25346...      32730  \n",
       "15  [416746.0, 850784.0, 750090.0, 386958.0, 42717...      44596  \n",
       "16                          [1.0, 0.0, 2.0, 3.0, nan]          8  \n",
       "17                          [0.0, 1.0, 2.0, 4.0, 3.0]         12  "
      ]
     },
     "execution_count": 12,
     "metadata": {},
     "output_type": "execute_result"
    }
   ],
   "source": [
    "report(train)"
   ]
  },
  {
   "cell_type": "code",
   "execution_count": 13,
   "metadata": {},
   "outputs": [
    {
     "data": {
      "text/html": [
       "<div>\n",
       "<style scoped>\n",
       "    .dataframe tbody tr th:only-of-type {\n",
       "        vertical-align: middle;\n",
       "    }\n",
       "\n",
       "    .dataframe tbody tr th {\n",
       "        vertical-align: top;\n",
       "    }\n",
       "\n",
       "    .dataframe thead th {\n",
       "        text-align: right;\n",
       "    }\n",
       "</style>\n",
       "<table border=\"1\" class=\"dataframe\">\n",
       "  <thead>\n",
       "    <tr style=\"text-align: right;\">\n",
       "      <th></th>\n",
       "      <th>current loan amount</th>\n",
       "      <th>credit score</th>\n",
       "      <th>annual income</th>\n",
       "      <th>monthly debt</th>\n",
       "      <th>years of credit history</th>\n",
       "      <th>number of open accounts</th>\n",
       "      <th>number of credit problems</th>\n",
       "      <th>current credit balance</th>\n",
       "      <th>maximum open credit</th>\n",
       "      <th>bankruptcies</th>\n",
       "      <th>tax liens</th>\n",
       "    </tr>\n",
       "  </thead>\n",
       "  <tbody>\n",
       "    <tr>\n",
       "      <th>count</th>\n",
       "      <td>1.000000e+05</td>\n",
       "      <td>80846.000000</td>\n",
       "      <td>8.084600e+04</td>\n",
       "      <td>100000.000000</td>\n",
       "      <td>100000.000000</td>\n",
       "      <td>100000.00000</td>\n",
       "      <td>100000.000000</td>\n",
       "      <td>1.000000e+05</td>\n",
       "      <td>9.999800e+04</td>\n",
       "      <td>99796.000000</td>\n",
       "      <td>99990.000000</td>\n",
       "    </tr>\n",
       "    <tr>\n",
       "      <th>mean</th>\n",
       "      <td>1.176045e+07</td>\n",
       "      <td>1076.456089</td>\n",
       "      <td>1.378277e+06</td>\n",
       "      <td>18472.412336</td>\n",
       "      <td>18.199141</td>\n",
       "      <td>11.12853</td>\n",
       "      <td>0.168310</td>\n",
       "      <td>2.946374e+05</td>\n",
       "      <td>7.607984e+05</td>\n",
       "      <td>0.117740</td>\n",
       "      <td>0.029313</td>\n",
       "    </tr>\n",
       "    <tr>\n",
       "      <th>std</th>\n",
       "      <td>3.178394e+07</td>\n",
       "      <td>1475.403791</td>\n",
       "      <td>1.081360e+06</td>\n",
       "      <td>12174.992609</td>\n",
       "      <td>7.015324</td>\n",
       "      <td>5.00987</td>\n",
       "      <td>0.482705</td>\n",
       "      <td>3.761709e+05</td>\n",
       "      <td>8.384503e+06</td>\n",
       "      <td>0.351424</td>\n",
       "      <td>0.258182</td>\n",
       "    </tr>\n",
       "    <tr>\n",
       "      <th>min</th>\n",
       "      <td>1.080200e+04</td>\n",
       "      <td>585.000000</td>\n",
       "      <td>7.662700e+04</td>\n",
       "      <td>0.000000</td>\n",
       "      <td>3.600000</td>\n",
       "      <td>0.00000</td>\n",
       "      <td>0.000000</td>\n",
       "      <td>0.000000e+00</td>\n",
       "      <td>0.000000e+00</td>\n",
       "      <td>0.000000</td>\n",
       "      <td>0.000000</td>\n",
       "    </tr>\n",
       "    <tr>\n",
       "      <th>25%</th>\n",
       "      <td>1.796520e+05</td>\n",
       "      <td>705.000000</td>\n",
       "      <td>8.488440e+05</td>\n",
       "      <td>10214.162500</td>\n",
       "      <td>13.500000</td>\n",
       "      <td>8.00000</td>\n",
       "      <td>0.000000</td>\n",
       "      <td>1.126700e+05</td>\n",
       "      <td>2.734380e+05</td>\n",
       "      <td>0.000000</td>\n",
       "      <td>0.000000</td>\n",
       "    </tr>\n",
       "    <tr>\n",
       "      <th>50%</th>\n",
       "      <td>3.122460e+05</td>\n",
       "      <td>724.000000</td>\n",
       "      <td>1.174162e+06</td>\n",
       "      <td>16220.300000</td>\n",
       "      <td>16.900000</td>\n",
       "      <td>10.00000</td>\n",
       "      <td>0.000000</td>\n",
       "      <td>2.098170e+05</td>\n",
       "      <td>4.678740e+05</td>\n",
       "      <td>0.000000</td>\n",
       "      <td>0.000000</td>\n",
       "    </tr>\n",
       "    <tr>\n",
       "      <th>75%</th>\n",
       "      <td>5.249420e+05</td>\n",
       "      <td>741.000000</td>\n",
       "      <td>1.650663e+06</td>\n",
       "      <td>24012.057500</td>\n",
       "      <td>21.700000</td>\n",
       "      <td>14.00000</td>\n",
       "      <td>0.000000</td>\n",
       "      <td>3.679588e+05</td>\n",
       "      <td>7.829580e+05</td>\n",
       "      <td>0.000000</td>\n",
       "      <td>0.000000</td>\n",
       "    </tr>\n",
       "    <tr>\n",
       "      <th>max</th>\n",
       "      <td>1.000000e+08</td>\n",
       "      <td>7510.000000</td>\n",
       "      <td>1.655574e+08</td>\n",
       "      <td>435843.280000</td>\n",
       "      <td>70.500000</td>\n",
       "      <td>76.00000</td>\n",
       "      <td>15.000000</td>\n",
       "      <td>3.287897e+07</td>\n",
       "      <td>1.539738e+09</td>\n",
       "      <td>7.000000</td>\n",
       "      <td>15.000000</td>\n",
       "    </tr>\n",
       "  </tbody>\n",
       "</table>\n",
       "</div>"
      ],
      "text/plain": [
       "       current loan amount  credit score  annual income   monthly debt  \\\n",
       "count         1.000000e+05  80846.000000   8.084600e+04  100000.000000   \n",
       "mean          1.176045e+07   1076.456089   1.378277e+06   18472.412336   \n",
       "std           3.178394e+07   1475.403791   1.081360e+06   12174.992609   \n",
       "min           1.080200e+04    585.000000   7.662700e+04       0.000000   \n",
       "25%           1.796520e+05    705.000000   8.488440e+05   10214.162500   \n",
       "50%           3.122460e+05    724.000000   1.174162e+06   16220.300000   \n",
       "75%           5.249420e+05    741.000000   1.650663e+06   24012.057500   \n",
       "max           1.000000e+08   7510.000000   1.655574e+08  435843.280000   \n",
       "\n",
       "       years of credit history  number of open accounts  \\\n",
       "count            100000.000000             100000.00000   \n",
       "mean                 18.199141                 11.12853   \n",
       "std                   7.015324                  5.00987   \n",
       "min                   3.600000                  0.00000   \n",
       "25%                  13.500000                  8.00000   \n",
       "50%                  16.900000                 10.00000   \n",
       "75%                  21.700000                 14.00000   \n",
       "max                  70.500000                 76.00000   \n",
       "\n",
       "       number of credit problems  current credit balance  maximum open credit  \\\n",
       "count              100000.000000            1.000000e+05         9.999800e+04   \n",
       "mean                    0.168310            2.946374e+05         7.607984e+05   \n",
       "std                     0.482705            3.761709e+05         8.384503e+06   \n",
       "min                     0.000000            0.000000e+00         0.000000e+00   \n",
       "25%                     0.000000            1.126700e+05         2.734380e+05   \n",
       "50%                     0.000000            2.098170e+05         4.678740e+05   \n",
       "75%                     0.000000            3.679588e+05         7.829580e+05   \n",
       "max                    15.000000            3.287897e+07         1.539738e+09   \n",
       "\n",
       "       bankruptcies     tax liens  \n",
       "count  99796.000000  99990.000000  \n",
       "mean       0.117740      0.029313  \n",
       "std        0.351424      0.258182  \n",
       "min        0.000000      0.000000  \n",
       "25%        0.000000      0.000000  \n",
       "50%        0.000000      0.000000  \n",
       "75%        0.000000      0.000000  \n",
       "max        7.000000     15.000000  "
      ]
     },
     "execution_count": 13,
     "metadata": {},
     "output_type": "execute_result"
    }
   ],
   "source": [
    "train.describe()"
   ]
  },
  {
   "cell_type": "code",
   "execution_count": 14,
   "metadata": {},
   "outputs": [
    {
     "data": {
      "text/html": [
       "<div>\n",
       "<style scoped>\n",
       "    .dataframe tbody tr th:only-of-type {\n",
       "        vertical-align: middle;\n",
       "    }\n",
       "\n",
       "    .dataframe tbody tr th {\n",
       "        vertical-align: top;\n",
       "    }\n",
       "\n",
       "    .dataframe thead th {\n",
       "        text-align: right;\n",
       "    }\n",
       "</style>\n",
       "<table border=\"1\" class=\"dataframe\">\n",
       "  <thead>\n",
       "    <tr style=\"text-align: right;\">\n",
       "      <th></th>\n",
       "      <th>loan id</th>\n",
       "      <th>customer id</th>\n",
       "      <th>loan status</th>\n",
       "      <th>term</th>\n",
       "      <th>years in current job</th>\n",
       "      <th>home ownership</th>\n",
       "      <th>purpose</th>\n",
       "    </tr>\n",
       "  </thead>\n",
       "  <tbody>\n",
       "    <tr>\n",
       "      <th>count</th>\n",
       "      <td>100000</td>\n",
       "      <td>100000</td>\n",
       "      <td>100000</td>\n",
       "      <td>100000</td>\n",
       "      <td>95778</td>\n",
       "      <td>100000</td>\n",
       "      <td>100000</td>\n",
       "    </tr>\n",
       "    <tr>\n",
       "      <th>unique</th>\n",
       "      <td>81999</td>\n",
       "      <td>81999</td>\n",
       "      <td>2</td>\n",
       "      <td>2</td>\n",
       "      <td>11</td>\n",
       "      <td>4</td>\n",
       "      <td>16</td>\n",
       "    </tr>\n",
       "    <tr>\n",
       "      <th>top</th>\n",
       "      <td>d4c13be7-32e5-405d-9b69-9b9bdf19aff4</td>\n",
       "      <td>5757e46c-828d-43de-bf43-33458f802646</td>\n",
       "      <td>Fully Paid</td>\n",
       "      <td>Short Term</td>\n",
       "      <td>10+ years</td>\n",
       "      <td>Home Mortgage</td>\n",
       "      <td>Debt Consolidation</td>\n",
       "    </tr>\n",
       "    <tr>\n",
       "      <th>freq</th>\n",
       "      <td>2</td>\n",
       "      <td>2</td>\n",
       "      <td>77361</td>\n",
       "      <td>72208</td>\n",
       "      <td>31121</td>\n",
       "      <td>48410</td>\n",
       "      <td>78552</td>\n",
       "    </tr>\n",
       "  </tbody>\n",
       "</table>\n",
       "</div>"
      ],
      "text/plain": [
       "                                     loan id  \\\n",
       "count                                 100000   \n",
       "unique                                 81999   \n",
       "top     d4c13be7-32e5-405d-9b69-9b9bdf19aff4   \n",
       "freq                                       2   \n",
       "\n",
       "                                 customer id loan status        term  \\\n",
       "count                                 100000      100000      100000   \n",
       "unique                                 81999           2           2   \n",
       "top     5757e46c-828d-43de-bf43-33458f802646  Fully Paid  Short Term   \n",
       "freq                                       2       77361       72208   \n",
       "\n",
       "       years in current job home ownership             purpose  \n",
       "count                 95778         100000              100000  \n",
       "unique                   11              4                  16  \n",
       "top               10+ years  Home Mortgage  Debt Consolidation  \n",
       "freq                  31121          48410               78552  "
      ]
     },
     "execution_count": 14,
     "metadata": {},
     "output_type": "execute_result"
    }
   ],
   "source": [
    "train.describe(include='object')"
   ]
  },
  {
   "cell_type": "markdown",
   "metadata": {},
   "source": [
    "Ada kejanggalan pada max credit score dan max current loan amount\n",
    "\n",
    "Nilai maximum pada maximum credit score adalah 99999999\n",
    "\n",
    "Nilai maximum pada credit score adalah 7510, padahal range credit score yang umumnya dipakai adalah 300-850"
   ]
  },
  {
   "cell_type": "code",
   "execution_count": 15,
   "metadata": {},
   "outputs": [
    {
     "data": {
      "text/html": [
       "<div>\n",
       "<style scoped>\n",
       "    .dataframe tbody tr th:only-of-type {\n",
       "        vertical-align: middle;\n",
       "    }\n",
       "\n",
       "    .dataframe tbody tr th {\n",
       "        vertical-align: top;\n",
       "    }\n",
       "\n",
       "    .dataframe thead th {\n",
       "        text-align: right;\n",
       "    }\n",
       "</style>\n",
       "<table border=\"1\" class=\"dataframe\">\n",
       "  <thead>\n",
       "    <tr style=\"text-align: right;\">\n",
       "      <th></th>\n",
       "      <th>loan id</th>\n",
       "      <th>customer id</th>\n",
       "      <th>loan status</th>\n",
       "      <th>current loan amount</th>\n",
       "      <th>term</th>\n",
       "      <th>credit score</th>\n",
       "      <th>annual income</th>\n",
       "      <th>years in current job</th>\n",
       "      <th>home ownership</th>\n",
       "      <th>purpose</th>\n",
       "      <th>monthly debt</th>\n",
       "      <th>years of credit history</th>\n",
       "      <th>number of open accounts</th>\n",
       "      <th>number of credit problems</th>\n",
       "      <th>current credit balance</th>\n",
       "      <th>maximum open credit</th>\n",
       "      <th>bankruptcies</th>\n",
       "      <th>tax liens</th>\n",
       "    </tr>\n",
       "  </thead>\n",
       "  <tbody>\n",
       "    <tr>\n",
       "      <th>5</th>\n",
       "      <td>89d8cb0c-e5c2-4f54-b056-48a645c543dd</td>\n",
       "      <td>4ffe99d3-7f2a-44db-afc1-40943f1f9750</td>\n",
       "      <td>Charged Off</td>\n",
       "      <td>206602.0</td>\n",
       "      <td>Short Term</td>\n",
       "      <td>7290.0</td>\n",
       "      <td>896857.0</td>\n",
       "      <td>10+ years</td>\n",
       "      <td>Home Mortgage</td>\n",
       "      <td>Debt Consolidation</td>\n",
       "      <td>16367.74</td>\n",
       "      <td>17.3</td>\n",
       "      <td>6.0</td>\n",
       "      <td>0.0</td>\n",
       "      <td>215308.0</td>\n",
       "      <td>272448.0</td>\n",
       "      <td>0.0</td>\n",
       "      <td>0.0</td>\n",
       "    </tr>\n",
       "    <tr>\n",
       "      <th>43</th>\n",
       "      <td>0c84b81a-e5a9-4a92-8dc8-fb179add03a4</td>\n",
       "      <td>628b0914-b1d7-4028-b590-b50f5da53d06</td>\n",
       "      <td>Charged Off</td>\n",
       "      <td>288948.0</td>\n",
       "      <td>Short Term</td>\n",
       "      <td>7120.0</td>\n",
       "      <td>537472.0</td>\n",
       "      <td>10+ years</td>\n",
       "      <td>Rent</td>\n",
       "      <td>Debt Consolidation</td>\n",
       "      <td>5777.90</td>\n",
       "      <td>14.8</td>\n",
       "      <td>4.0</td>\n",
       "      <td>0.0</td>\n",
       "      <td>132468.0</td>\n",
       "      <td>164406.0</td>\n",
       "      <td>0.0</td>\n",
       "      <td>0.0</td>\n",
       "    </tr>\n",
       "    <tr>\n",
       "      <th>51</th>\n",
       "      <td>0daecc08-0354-4753-b282-52124b2420df</td>\n",
       "      <td>2884d362-391a-4941-af69-c825cae18002</td>\n",
       "      <td>Charged Off</td>\n",
       "      <td>219692.0</td>\n",
       "      <td>Long Term</td>\n",
       "      <td>6610.0</td>\n",
       "      <td>527839.0</td>\n",
       "      <td>10+ years</td>\n",
       "      <td>Rent</td>\n",
       "      <td>Debt Consolidation</td>\n",
       "      <td>14207.63</td>\n",
       "      <td>17.0</td>\n",
       "      <td>9.0</td>\n",
       "      <td>0.0</td>\n",
       "      <td>254277.0</td>\n",
       "      <td>379918.0</td>\n",
       "      <td>0.0</td>\n",
       "      <td>0.0</td>\n",
       "    </tr>\n",
       "    <tr>\n",
       "      <th>56</th>\n",
       "      <td>a5ada080-a058-4ad2-8953-002b7ec1ae31</td>\n",
       "      <td>9966e08c-04a6-41ab-86d0-e4062c64bd41</td>\n",
       "      <td>Charged Off</td>\n",
       "      <td>78012.0</td>\n",
       "      <td>Short Term</td>\n",
       "      <td>7380.0</td>\n",
       "      <td>728726.0</td>\n",
       "      <td>4 years</td>\n",
       "      <td>Rent</td>\n",
       "      <td>major_purchase</td>\n",
       "      <td>10135.36</td>\n",
       "      <td>11.4</td>\n",
       "      <td>8.0</td>\n",
       "      <td>0.0</td>\n",
       "      <td>104633.0</td>\n",
       "      <td>199936.0</td>\n",
       "      <td>0.0</td>\n",
       "      <td>0.0</td>\n",
       "    </tr>\n",
       "    <tr>\n",
       "      <th>65</th>\n",
       "      <td>1704367e-1d71-4551-8d33-49aa15cab4b1</td>\n",
       "      <td>88f97adf-070a-47b1-9657-38276eef7d19</td>\n",
       "      <td>Charged Off</td>\n",
       "      <td>523908.0</td>\n",
       "      <td>Long Term</td>\n",
       "      <td>7370.0</td>\n",
       "      <td>1028774.0</td>\n",
       "      <td>6 years</td>\n",
       "      <td>Home Mortgage</td>\n",
       "      <td>Debt Consolidation</td>\n",
       "      <td>22632.99</td>\n",
       "      <td>19.3</td>\n",
       "      <td>5.0</td>\n",
       "      <td>0.0</td>\n",
       "      <td>474658.0</td>\n",
       "      <td>742720.0</td>\n",
       "      <td>0.0</td>\n",
       "      <td>0.0</td>\n",
       "    </tr>\n",
       "    <tr>\n",
       "      <th>...</th>\n",
       "      <td>...</td>\n",
       "      <td>...</td>\n",
       "      <td>...</td>\n",
       "      <td>...</td>\n",
       "      <td>...</td>\n",
       "      <td>...</td>\n",
       "      <td>...</td>\n",
       "      <td>...</td>\n",
       "      <td>...</td>\n",
       "      <td>...</td>\n",
       "      <td>...</td>\n",
       "      <td>...</td>\n",
       "      <td>...</td>\n",
       "      <td>...</td>\n",
       "      <td>...</td>\n",
       "      <td>...</td>\n",
       "      <td>...</td>\n",
       "      <td>...</td>\n",
       "    </tr>\n",
       "    <tr>\n",
       "      <th>99851</th>\n",
       "      <td>5eee6c31-62d4-400c-a81f-37bd373db926</td>\n",
       "      <td>039ee8d2-3321-4683-9592-cb1a360c34e2</td>\n",
       "      <td>Charged Off</td>\n",
       "      <td>198572.0</td>\n",
       "      <td>Short Term</td>\n",
       "      <td>7420.0</td>\n",
       "      <td>526205.0</td>\n",
       "      <td>2 years</td>\n",
       "      <td>Rent</td>\n",
       "      <td>Debt Consolidation</td>\n",
       "      <td>9910.02</td>\n",
       "      <td>16.5</td>\n",
       "      <td>8.0</td>\n",
       "      <td>0.0</td>\n",
       "      <td>296704.0</td>\n",
       "      <td>433224.0</td>\n",
       "      <td>0.0</td>\n",
       "      <td>0.0</td>\n",
       "    </tr>\n",
       "    <tr>\n",
       "      <th>99872</th>\n",
       "      <td>ce1f8220-7eba-4ec1-8bef-ca28f4916801</td>\n",
       "      <td>3e108ac9-9b7c-44a9-9289-e389cf3085b1</td>\n",
       "      <td>Charged Off</td>\n",
       "      <td>110924.0</td>\n",
       "      <td>Short Term</td>\n",
       "      <td>7070.0</td>\n",
       "      <td>804631.0</td>\n",
       "      <td>4 years</td>\n",
       "      <td>Rent</td>\n",
       "      <td>Debt Consolidation</td>\n",
       "      <td>11533.00</td>\n",
       "      <td>13.3</td>\n",
       "      <td>9.0</td>\n",
       "      <td>0.0</td>\n",
       "      <td>60154.0</td>\n",
       "      <td>96470.0</td>\n",
       "      <td>0.0</td>\n",
       "      <td>0.0</td>\n",
       "    </tr>\n",
       "    <tr>\n",
       "      <th>99906</th>\n",
       "      <td>096471bd-820e-4d0e-88a7-d699a59ab87a</td>\n",
       "      <td>4cfda7f6-790e-4493-a9b1-4d35a8b63af9</td>\n",
       "      <td>Charged Off</td>\n",
       "      <td>175362.0</td>\n",
       "      <td>Short Term</td>\n",
       "      <td>6880.0</td>\n",
       "      <td>1060162.0</td>\n",
       "      <td>9 years</td>\n",
       "      <td>Rent</td>\n",
       "      <td>Debt Consolidation</td>\n",
       "      <td>16079.13</td>\n",
       "      <td>17.3</td>\n",
       "      <td>13.0</td>\n",
       "      <td>0.0</td>\n",
       "      <td>277153.0</td>\n",
       "      <td>333234.0</td>\n",
       "      <td>0.0</td>\n",
       "      <td>0.0</td>\n",
       "    </tr>\n",
       "    <tr>\n",
       "      <th>99944</th>\n",
       "      <td>36da0533-8664-4156-8e96-f0d07966acdb</td>\n",
       "      <td>070e3aa9-d077-404c-8946-59ce976e0b70</td>\n",
       "      <td>Charged Off</td>\n",
       "      <td>88968.0</td>\n",
       "      <td>Short Term</td>\n",
       "      <td>6790.0</td>\n",
       "      <td>441845.0</td>\n",
       "      <td>&lt; 1 year</td>\n",
       "      <td>Rent</td>\n",
       "      <td>other</td>\n",
       "      <td>5375.86</td>\n",
       "      <td>8.5</td>\n",
       "      <td>10.0</td>\n",
       "      <td>0.0</td>\n",
       "      <td>193306.0</td>\n",
       "      <td>535458.0</td>\n",
       "      <td>0.0</td>\n",
       "      <td>0.0</td>\n",
       "    </tr>\n",
       "    <tr>\n",
       "      <th>99947</th>\n",
       "      <td>0ee71c4c-10ca-4849-b437-314317022f62</td>\n",
       "      <td>05979eaa-82f7-4909-8cbb-548bd44d1b02</td>\n",
       "      <td>Charged Off</td>\n",
       "      <td>205458.0</td>\n",
       "      <td>Long Term</td>\n",
       "      <td>6940.0</td>\n",
       "      <td>1681101.0</td>\n",
       "      <td>6 years</td>\n",
       "      <td>Rent</td>\n",
       "      <td>Business Loan</td>\n",
       "      <td>14877.76</td>\n",
       "      <td>10.5</td>\n",
       "      <td>8.0</td>\n",
       "      <td>0.0</td>\n",
       "      <td>259844.0</td>\n",
       "      <td>527846.0</td>\n",
       "      <td>0.0</td>\n",
       "      <td>0.0</td>\n",
       "    </tr>\n",
       "  </tbody>\n",
       "</table>\n",
       "<p>4551 rows × 18 columns</p>\n",
       "</div>"
      ],
      "text/plain": [
       "                                    loan id  \\\n",
       "5      89d8cb0c-e5c2-4f54-b056-48a645c543dd   \n",
       "43     0c84b81a-e5a9-4a92-8dc8-fb179add03a4   \n",
       "51     0daecc08-0354-4753-b282-52124b2420df   \n",
       "56     a5ada080-a058-4ad2-8953-002b7ec1ae31   \n",
       "65     1704367e-1d71-4551-8d33-49aa15cab4b1   \n",
       "...                                     ...   \n",
       "99851  5eee6c31-62d4-400c-a81f-37bd373db926   \n",
       "99872  ce1f8220-7eba-4ec1-8bef-ca28f4916801   \n",
       "99906  096471bd-820e-4d0e-88a7-d699a59ab87a   \n",
       "99944  36da0533-8664-4156-8e96-f0d07966acdb   \n",
       "99947  0ee71c4c-10ca-4849-b437-314317022f62   \n",
       "\n",
       "                                customer id  loan status  current loan amount  \\\n",
       "5      4ffe99d3-7f2a-44db-afc1-40943f1f9750  Charged Off             206602.0   \n",
       "43     628b0914-b1d7-4028-b590-b50f5da53d06  Charged Off             288948.0   \n",
       "51     2884d362-391a-4941-af69-c825cae18002  Charged Off             219692.0   \n",
       "56     9966e08c-04a6-41ab-86d0-e4062c64bd41  Charged Off              78012.0   \n",
       "65     88f97adf-070a-47b1-9657-38276eef7d19  Charged Off             523908.0   \n",
       "...                                     ...          ...                  ...   \n",
       "99851  039ee8d2-3321-4683-9592-cb1a360c34e2  Charged Off             198572.0   \n",
       "99872  3e108ac9-9b7c-44a9-9289-e389cf3085b1  Charged Off             110924.0   \n",
       "99906  4cfda7f6-790e-4493-a9b1-4d35a8b63af9  Charged Off             175362.0   \n",
       "99944  070e3aa9-d077-404c-8946-59ce976e0b70  Charged Off              88968.0   \n",
       "99947  05979eaa-82f7-4909-8cbb-548bd44d1b02  Charged Off             205458.0   \n",
       "\n",
       "             term  credit score  annual income years in current job  \\\n",
       "5      Short Term        7290.0       896857.0            10+ years   \n",
       "43     Short Term        7120.0       537472.0            10+ years   \n",
       "51      Long Term        6610.0       527839.0            10+ years   \n",
       "56     Short Term        7380.0       728726.0              4 years   \n",
       "65      Long Term        7370.0      1028774.0              6 years   \n",
       "...           ...           ...            ...                  ...   \n",
       "99851  Short Term        7420.0       526205.0              2 years   \n",
       "99872  Short Term        7070.0       804631.0              4 years   \n",
       "99906  Short Term        6880.0      1060162.0              9 years   \n",
       "99944  Short Term        6790.0       441845.0             < 1 year   \n",
       "99947   Long Term        6940.0      1681101.0              6 years   \n",
       "\n",
       "      home ownership             purpose  monthly debt  \\\n",
       "5      Home Mortgage  Debt Consolidation      16367.74   \n",
       "43              Rent  Debt Consolidation       5777.90   \n",
       "51              Rent  Debt Consolidation      14207.63   \n",
       "56              Rent      major_purchase      10135.36   \n",
       "65     Home Mortgage  Debt Consolidation      22632.99   \n",
       "...              ...                 ...           ...   \n",
       "99851           Rent  Debt Consolidation       9910.02   \n",
       "99872           Rent  Debt Consolidation      11533.00   \n",
       "99906           Rent  Debt Consolidation      16079.13   \n",
       "99944           Rent               other       5375.86   \n",
       "99947           Rent       Business Loan      14877.76   \n",
       "\n",
       "       years of credit history  number of open accounts  \\\n",
       "5                         17.3                      6.0   \n",
       "43                        14.8                      4.0   \n",
       "51                        17.0                      9.0   \n",
       "56                        11.4                      8.0   \n",
       "65                        19.3                      5.0   \n",
       "...                        ...                      ...   \n",
       "99851                     16.5                      8.0   \n",
       "99872                     13.3                      9.0   \n",
       "99906                     17.3                     13.0   \n",
       "99944                      8.5                     10.0   \n",
       "99947                     10.5                      8.0   \n",
       "\n",
       "       number of credit problems  current credit balance  maximum open credit  \\\n",
       "5                            0.0                215308.0             272448.0   \n",
       "43                           0.0                132468.0             164406.0   \n",
       "51                           0.0                254277.0             379918.0   \n",
       "56                           0.0                104633.0             199936.0   \n",
       "65                           0.0                474658.0             742720.0   \n",
       "...                          ...                     ...                  ...   \n",
       "99851                        0.0                296704.0             433224.0   \n",
       "99872                        0.0                 60154.0              96470.0   \n",
       "99906                        0.0                277153.0             333234.0   \n",
       "99944                        0.0                193306.0             535458.0   \n",
       "99947                        0.0                259844.0             527846.0   \n",
       "\n",
       "       bankruptcies  tax liens  \n",
       "5               0.0        0.0  \n",
       "43              0.0        0.0  \n",
       "51              0.0        0.0  \n",
       "56              0.0        0.0  \n",
       "65              0.0        0.0  \n",
       "...             ...        ...  \n",
       "99851           0.0        0.0  \n",
       "99872           0.0        0.0  \n",
       "99906           0.0        0.0  \n",
       "99944           0.0        0.0  \n",
       "99947           0.0        0.0  \n",
       "\n",
       "[4551 rows x 18 columns]"
      ]
     },
     "execution_count": 15,
     "metadata": {},
     "output_type": "execute_result"
    }
   ],
   "source": [
    "train[train['credit score']>850]"
   ]
  },
  {
   "cell_type": "code",
   "execution_count": 16,
   "metadata": {},
   "outputs": [],
   "source": [
    "## Handle credit score > 850\n",
    "train['credit score'] = np.where(train['credit score']>850, train['credit score']/10, train['credit score'])"
   ]
  },
  {
   "cell_type": "code",
   "execution_count": 17,
   "metadata": {},
   "outputs": [],
   "source": [
    "# binning credit score\n",
    "def binning_credscore(value):\n",
    "    if 850 >= value >= 720.0 :\n",
    "        result = 'Excellent'\n",
    "    elif value >= 690.0 :\n",
    "        result = 'Good'\n",
    "    elif value >= 630.0 :\n",
    "        result = 'Fair'\n",
    "    elif value <= 629.0 :\n",
    "        result = 'Poor'\n",
    "\n",
    "    else :\n",
    "        result = 'credit score out of range'\n",
    "    return result"
   ]
  },
  {
   "cell_type": "code",
   "execution_count": 18,
   "metadata": {},
   "outputs": [],
   "source": [
    "train['credit score'] = train['credit score'].dropna().apply(binning_credscore)"
   ]
  },
  {
   "cell_type": "code",
   "execution_count": 19,
   "metadata": {},
   "outputs": [
    {
     "data": {
      "text/plain": [
       "Excellent    44213\n",
       "Good         24247\n",
       "Fair         11197\n",
       "Poor          1189\n",
       "Name: credit score, dtype: int64"
      ]
     },
     "execution_count": 19,
     "metadata": {},
     "output_type": "execute_result"
    }
   ],
   "source": [
    "train['credit score'].value_counts()"
   ]
  },
  {
   "cell_type": "code",
   "execution_count": 20,
   "metadata": {},
   "outputs": [],
   "source": [
    "# Handle current loan amount yg nilainya 99999999\n",
    "train['current loan amount'].replace(99999999,np.nan, inplace=True)"
   ]
  },
  {
   "cell_type": "code",
   "execution_count": 21,
   "metadata": {},
   "outputs": [
    {
     "name": "stdout",
     "output_type": "stream",
     "text": [
      "<class 'pandas.core.frame.DataFrame'>\n",
      "Int64Index: 100000 entries, 0 to 99999\n",
      "Data columns (total 18 columns):\n",
      " #   Column                     Non-Null Count   Dtype  \n",
      "---  ------                     --------------   -----  \n",
      " 0   loan id                    100000 non-null  object \n",
      " 1   customer id                100000 non-null  object \n",
      " 2   loan status                100000 non-null  object \n",
      " 3   current loan amount        88516 non-null   float64\n",
      " 4   term                       100000 non-null  object \n",
      " 5   credit score               80846 non-null   object \n",
      " 6   annual income              80846 non-null   float64\n",
      " 7   years in current job       95778 non-null   object \n",
      " 8   home ownership             100000 non-null  object \n",
      " 9   purpose                    100000 non-null  object \n",
      " 10  monthly debt               100000 non-null  float64\n",
      " 11  years of credit history    100000 non-null  float64\n",
      " 12  number of open accounts    100000 non-null  float64\n",
      " 13  number of credit problems  100000 non-null  float64\n",
      " 14  current credit balance     100000 non-null  float64\n",
      " 15  maximum open credit        99998 non-null   float64\n",
      " 16  bankruptcies               99796 non-null   float64\n",
      " 17  tax liens                  99990 non-null   float64\n",
      "dtypes: float64(10), object(8)\n",
      "memory usage: 14.5+ MB\n"
     ]
    }
   ],
   "source": [
    "train.info()"
   ]
  },
  {
   "cell_type": "code",
   "execution_count": 22,
   "metadata": {},
   "outputs": [],
   "source": [
    "# mengubah tipe data years in current job dari string menjadi float\n",
    "train['years in current job'] = train['years in current job'].str.extract(r\"(\\d+)\")\n",
    "train['years in current job'] = train['years in current job'].astype(float)"
   ]
  },
  {
   "cell_type": "code",
   "execution_count": 23,
   "metadata": {},
   "outputs": [
    {
     "data": {
      "text/plain": [
       "loan id                          0\n",
       "customer id                      0\n",
       "loan status                      0\n",
       "current loan amount          11484\n",
       "term                             0\n",
       "credit score                 19154\n",
       "annual income                19154\n",
       "years in current job          4222\n",
       "home ownership                   0\n",
       "purpose                          0\n",
       "monthly debt                     0\n",
       "years of credit history          0\n",
       "number of open accounts          0\n",
       "number of credit problems        0\n",
       "current credit balance           0\n",
       "maximum open credit              2\n",
       "bankruptcies                   204\n",
       "tax liens                       10\n",
       "dtype: int64"
      ]
     },
     "execution_count": 23,
     "metadata": {},
     "output_type": "execute_result"
    }
   ],
   "source": [
    "train.isna().sum()"
   ]
  },
  {
   "cell_type": "code",
   "execution_count": 24,
   "metadata": {},
   "outputs": [
    {
     "data": {
      "text/plain": [
       "Debt Consolidation      78552\n",
       "other                    6037\n",
       "Home Improvements        5839\n",
       "Other                    3250\n",
       "Business Loan            1569\n",
       "Buy a Car                1265\n",
       "Medical Bills            1127\n",
       "Buy House                 678\n",
       "Take a Trip               573\n",
       "major_purchase            352\n",
       "small_business            283\n",
       "moving                    150\n",
       "wedding                   115\n",
       "vacation                  101\n",
       "Educational Expenses       99\n",
       "renewable_energy           10\n",
       "Name: purpose, dtype: int64"
      ]
     },
     "execution_count": 24,
     "metadata": {},
     "output_type": "execute_result"
    }
   ],
   "source": [
    "train['purpose'].value_counts()"
   ]
  },
  {
   "cell_type": "code",
   "execution_count": 25,
   "metadata": {},
   "outputs": [],
   "source": [
    "# Mengabungkan data other dan Other di kolom purpose\n",
    "train['purpose'] = train['purpose'].replace('Other','other')\n",
    "train['purpose'] = train['purpose'].replace('Take a Trip', 'vacation')"
   ]
  },
  {
   "cell_type": "code",
   "execution_count": 26,
   "metadata": {},
   "outputs": [
    {
     "data": {
      "text/plain": [
       "Debt Consolidation      78552\n",
       "other                    9287\n",
       "Home Improvements        5839\n",
       "Business Loan            1569\n",
       "Buy a Car                1265\n",
       "Medical Bills            1127\n",
       "Buy House                 678\n",
       "vacation                  674\n",
       "major_purchase            352\n",
       "small_business            283\n",
       "moving                    150\n",
       "wedding                   115\n",
       "Educational Expenses       99\n",
       "renewable_energy           10\n",
       "Name: purpose, dtype: int64"
      ]
     },
     "execution_count": 26,
     "metadata": {},
     "output_type": "execute_result"
    }
   ],
   "source": [
    "train.purpose.value_counts()"
   ]
  },
  {
   "cell_type": "code",
   "execution_count": null,
   "metadata": {},
   "outputs": [],
   "source": []
  },
  {
   "cell_type": "code",
   "execution_count": null,
   "metadata": {},
   "outputs": [],
   "source": []
  },
  {
   "cell_type": "code",
   "execution_count": null,
   "metadata": {},
   "outputs": [],
   "source": []
  },
  {
   "cell_type": "markdown",
   "metadata": {},
   "source": [
    "## EDA"
   ]
  },
  {
   "cell_type": "code",
   "execution_count": 27,
   "metadata": {},
   "outputs": [
    {
     "data": {
      "image/png": "[encoded data removed]",
      "text/plain": [
       "<Figure size 360x360 with 1 Axes>"
      ]
     },
     "metadata": {},
     "output_type": "display_data"
    }
   ],
   "source": [
    "train['loan status'].value_counts().plot(kind='pie', autopct='%.2f%%', figsize=(5,5))\n",
    "plt.title('Piechart Loan Status')\n",
    "plt.savefig('loanstatus.png', bbox_inches =\"tight\", transparent=True, dpi=800)\n",
    "plt.show()"
   ]
  },
  {
   "cell_type": "markdown",
   "metadata": {},
   "source": [
    "## Loan Status berdasarkan Term of Loan"
   ]
  },
  {
   "cell_type": "code",
   "execution_count": 28,
   "metadata": {},
   "outputs": [
    {
     "data": {
      "text/html": [
       "<div>\n",
       "<style scoped>\n",
       "    .dataframe tbody tr th:only-of-type {\n",
       "        vertical-align: middle;\n",
       "    }\n",
       "\n",
       "    .dataframe tbody tr th {\n",
       "        vertical-align: top;\n",
       "    }\n",
       "\n",
       "    .dataframe thead th {\n",
       "        text-align: right;\n",
       "    }\n",
       "</style>\n",
       "<table border=\"1\" class=\"dataframe\">\n",
       "  <thead>\n",
       "    <tr style=\"text-align: right;\">\n",
       "      <th>loan status</th>\n",
       "      <th>Charged Off</th>\n",
       "      <th>Fully Paid</th>\n",
       "    </tr>\n",
       "    <tr>\n",
       "      <th>term</th>\n",
       "      <th></th>\n",
       "      <th></th>\n",
       "    </tr>\n",
       "  </thead>\n",
       "  <tbody>\n",
       "    <tr>\n",
       "      <th>Long Term</th>\n",
       "      <td>0.301022</td>\n",
       "      <td>0.698978</td>\n",
       "    </tr>\n",
       "    <tr>\n",
       "      <th>Short Term</th>\n",
       "      <td>0.197665</td>\n",
       "      <td>0.802335</td>\n",
       "    </tr>\n",
       "  </tbody>\n",
       "</table>\n",
       "</div>"
      ],
      "text/plain": [
       "loan status  Charged Off  Fully Paid\n",
       "term                                \n",
       "Long Term       0.301022    0.698978\n",
       "Short Term      0.197665    0.802335"
      ]
     },
     "execution_count": 28,
     "metadata": {},
     "output_type": "execute_result"
    }
   ],
   "source": [
    "pd.crosstab(train['term'], train['loan status'], normalize='index').sort_values(by='Charged Off', ascending=False)"
   ]
  },
  {
   "cell_type": "code",
   "execution_count": 29,
   "metadata": {},
   "outputs": [
    {
     "data": {
      "image/png": "[encoded data removed]",
      "text/plain": [
       "<Figure size 432x288 with 1 Axes>"
      ]
     },
     "metadata": {
      "needs_background": "light"
     },
     "output_type": "display_data"
    }
   ],
   "source": [
    "pd.crosstab(train['term'], train['loan status']).plot(kind='bar')\n",
    "plt.title('Barplot Term')\n",
    "plt.savefig('termloanstatus.png', bbox_inches =\"tight\", transparent=True, dpi=800)\n",
    "plt.show()"
   ]
  },
  {
   "cell_type": "markdown",
   "metadata": {},
   "source": [
    "Persentase orang yang gagal bayar pada long term lebih tinggi dibandingkan pada short term"
   ]
  },
  {
   "cell_type": "markdown",
   "metadata": {},
   "source": [
    "## Loan Status berdasarkan Credit Score"
   ]
  },
  {
   "cell_type": "code",
   "execution_count": 30,
   "metadata": {},
   "outputs": [
    {
     "data": {
      "text/html": [
       "<div>\n",
       "<style scoped>\n",
       "    .dataframe tbody tr th:only-of-type {\n",
       "        vertical-align: middle;\n",
       "    }\n",
       "\n",
       "    .dataframe tbody tr th {\n",
       "        vertical-align: top;\n",
       "    }\n",
       "\n",
       "    .dataframe thead th {\n",
       "        text-align: right;\n",
       "    }\n",
       "</style>\n",
       "<table border=\"1\" class=\"dataframe\">\n",
       "  <thead>\n",
       "    <tr style=\"text-align: right;\">\n",
       "      <th>loan status</th>\n",
       "      <th>Charged Off</th>\n",
       "      <th>Fully Paid</th>\n",
       "    </tr>\n",
       "    <tr>\n",
       "      <th>credit score</th>\n",
       "      <th></th>\n",
       "      <th></th>\n",
       "    </tr>\n",
       "  </thead>\n",
       "  <tbody>\n",
       "    <tr>\n",
       "      <th>Poor</th>\n",
       "      <td>0.367536</td>\n",
       "      <td>0.632464</td>\n",
       "    </tr>\n",
       "    <tr>\n",
       "      <th>Fair</th>\n",
       "      <td>0.295526</td>\n",
       "      <td>0.704474</td>\n",
       "    </tr>\n",
       "    <tr>\n",
       "      <th>Good</th>\n",
       "      <td>0.208479</td>\n",
       "      <td>0.791521</td>\n",
       "    </tr>\n",
       "    <tr>\n",
       "      <th>Excellent</th>\n",
       "      <td>0.190193</td>\n",
       "      <td>0.809807</td>\n",
       "    </tr>\n",
       "  </tbody>\n",
       "</table>\n",
       "</div>"
      ],
      "text/plain": [
       "loan status   Charged Off  Fully Paid\n",
       "credit score                         \n",
       "Poor             0.367536    0.632464\n",
       "Fair             0.295526    0.704474\n",
       "Good             0.208479    0.791521\n",
       "Excellent        0.190193    0.809807"
      ]
     },
     "execution_count": 30,
     "metadata": {},
     "output_type": "execute_result"
    }
   ],
   "source": [
    "pd.crosstab(train['credit score'], train['loan status'], normalize='index').sort_values(by='Charged Off', ascending=False)"
   ]
  },
  {
   "cell_type": "code",
   "execution_count": 31,
   "metadata": {},
   "outputs": [
    {
     "data": {
      "image/png": "[encoded data removed]",
      "text/plain": [
       "<Figure size 432x360 with 1 Axes>"
      ]
     },
     "metadata": {
      "needs_background": "light"
     },
     "output_type": "display_data"
    }
   ],
   "source": [
    "pd.crosstab(train['credit score'], train['loan status']).plot(kind='bar', figsize=(6,5))\n",
    "plt.title('Barplot Credit Score')\n",
    "plt.savefig('creditscore.png', bbox_inches =\"tight\", transparent=True, dpi=800)\n",
    "plt.show()"
   ]
  },
  {
   "cell_type": "markdown",
   "metadata": {},
   "source": [
    "Semakin buruk credit score nasabah, semakin tinggi persentase nasabah tersebut gagal bayar"
   ]
  },
  {
   "cell_type": "markdown",
   "metadata": {},
   "source": [
    "## Loan Status berdasarkan credit score dan term of loan"
   ]
  },
  {
   "cell_type": "code",
   "execution_count": 32,
   "metadata": {},
   "outputs": [
    {
     "data": {
      "text/html": [
       "<div>\n",
       "<style scoped>\n",
       "    .dataframe tbody tr th:only-of-type {\n",
       "        vertical-align: middle;\n",
       "    }\n",
       "\n",
       "    .dataframe tbody tr th {\n",
       "        vertical-align: top;\n",
       "    }\n",
       "\n",
       "    .dataframe thead th {\n",
       "        text-align: right;\n",
       "    }\n",
       "</style>\n",
       "<table border=\"1\" class=\"dataframe\">\n",
       "  <thead>\n",
       "    <tr style=\"text-align: right;\">\n",
       "      <th></th>\n",
       "      <th>loan status</th>\n",
       "      <th>Charged Off</th>\n",
       "      <th>Fully Paid</th>\n",
       "    </tr>\n",
       "    <tr>\n",
       "      <th>credit score</th>\n",
       "      <th>term</th>\n",
       "      <th></th>\n",
       "      <th></th>\n",
       "    </tr>\n",
       "  </thead>\n",
       "  <tbody>\n",
       "    <tr>\n",
       "      <th rowspan=\"2\" valign=\"top\">Poor</th>\n",
       "      <th>Long Term</th>\n",
       "      <td>0.368275</td>\n",
       "      <td>0.631725</td>\n",
       "    </tr>\n",
       "    <tr>\n",
       "      <th>Short Term</th>\n",
       "      <td>0.360360</td>\n",
       "      <td>0.639640</td>\n",
       "    </tr>\n",
       "    <tr>\n",
       "      <th rowspan=\"2\" valign=\"top\">Fair</th>\n",
       "      <th>Long Term</th>\n",
       "      <td>0.313793</td>\n",
       "      <td>0.686207</td>\n",
       "    </tr>\n",
       "    <tr>\n",
       "      <th>Short Term</th>\n",
       "      <td>0.257072</td>\n",
       "      <td>0.742928</td>\n",
       "    </tr>\n",
       "    <tr>\n",
       "      <th>Good</th>\n",
       "      <th>Long Term</th>\n",
       "      <td>0.254577</td>\n",
       "      <td>0.745423</td>\n",
       "    </tr>\n",
       "    <tr>\n",
       "      <th>Excellent</th>\n",
       "      <th>Long Term</th>\n",
       "      <td>0.249064</td>\n",
       "      <td>0.750936</td>\n",
       "    </tr>\n",
       "    <tr>\n",
       "      <th>Good</th>\n",
       "      <th>Short Term</th>\n",
       "      <td>0.185658</td>\n",
       "      <td>0.814342</td>\n",
       "    </tr>\n",
       "    <tr>\n",
       "      <th>Excellent</th>\n",
       "      <th>Short Term</th>\n",
       "      <td>0.180214</td>\n",
       "      <td>0.819786</td>\n",
       "    </tr>\n",
       "  </tbody>\n",
       "</table>\n",
       "</div>"
      ],
      "text/plain": [
       "loan status              Charged Off  Fully Paid\n",
       "credit score term                               \n",
       "Poor         Long Term      0.368275    0.631725\n",
       "             Short Term     0.360360    0.639640\n",
       "Fair         Long Term      0.313793    0.686207\n",
       "             Short Term     0.257072    0.742928\n",
       "Good         Long Term      0.254577    0.745423\n",
       "Excellent    Long Term      0.249064    0.750936\n",
       "Good         Short Term     0.185658    0.814342\n",
       "Excellent    Short Term     0.180214    0.819786"
      ]
     },
     "execution_count": 32,
     "metadata": {},
     "output_type": "execute_result"
    }
   ],
   "source": [
    "pd.crosstab([train['credit score'], train['term']], train['loan status'], normalize='index').sort_values(by='Charged Off', ascending=False)"
   ]
  },
  {
   "cell_type": "code",
   "execution_count": 33,
   "metadata": {},
   "outputs": [
    {
     "data": {
      "text/plain": [
       "<AxesSubplot:xlabel='credit score,term'>"
      ]
     },
     "execution_count": 33,
     "metadata": {},
     "output_type": "execute_result"
    },
    {
     "data": {
      "image/png": "[encoded data removed]",
      "text/plain": [
       "<Figure size 432x360 with 1 Axes>"
      ]
     },
     "metadata": {
      "needs_background": "light"
     },
     "output_type": "display_data"
    }
   ],
   "source": [
    "pd.crosstab([train['credit score'], train['term']], train['loan status']).plot(kind='bar', figsize=(6,5))"
   ]
  },
  {
   "cell_type": "markdown",
   "metadata": {},
   "source": [
    "## Loan Status berdasarkan Purpose of Loan"
   ]
  },
  {
   "cell_type": "code",
   "execution_count": 34,
   "metadata": {},
   "outputs": [
    {
     "data": {
      "image/png": "[encoded data removed]",
      "text/plain": [
       "<Figure size 504x288 with 1 Axes>"
      ]
     },
     "metadata": {
      "needs_background": "light"
     },
     "output_type": "display_data"
    }
   ],
   "source": [
    "train['purpose'].value_counts().plot(kind='barh', figsize=(7,4))\n",
    "\n",
    "plt.tight_layout()\n",
    "plt.show()"
   ]
  },
  {
   "cell_type": "code",
   "execution_count": 35,
   "metadata": {},
   "outputs": [
    {
     "data": {
      "text/html": [
       "<div>\n",
       "<style scoped>\n",
       "    .dataframe tbody tr th:only-of-type {\n",
       "        vertical-align: middle;\n",
       "    }\n",
       "\n",
       "    .dataframe tbody tr th {\n",
       "        vertical-align: top;\n",
       "    }\n",
       "\n",
       "    .dataframe thead th {\n",
       "        text-align: right;\n",
       "    }\n",
       "</style>\n",
       "<table border=\"1\" class=\"dataframe\">\n",
       "  <thead>\n",
       "    <tr style=\"text-align: right;\">\n",
       "      <th>loan status</th>\n",
       "      <th>Charged Off</th>\n",
       "      <th>Fully Paid</th>\n",
       "    </tr>\n",
       "    <tr>\n",
       "      <th>purpose</th>\n",
       "      <th></th>\n",
       "      <th></th>\n",
       "    </tr>\n",
       "  </thead>\n",
       "  <tbody>\n",
       "    <tr>\n",
       "      <th>small_business</th>\n",
       "      <td>0.420495</td>\n",
       "      <td>0.579505</td>\n",
       "    </tr>\n",
       "    <tr>\n",
       "      <th>renewable_energy</th>\n",
       "      <td>0.400000</td>\n",
       "      <td>0.600000</td>\n",
       "    </tr>\n",
       "    <tr>\n",
       "      <th>Business Loan</th>\n",
       "      <td>0.304653</td>\n",
       "      <td>0.695347</td>\n",
       "    </tr>\n",
       "    <tr>\n",
       "      <th>moving</th>\n",
       "      <td>0.286667</td>\n",
       "      <td>0.713333</td>\n",
       "    </tr>\n",
       "    <tr>\n",
       "      <th>Medical Bills</th>\n",
       "      <td>0.246673</td>\n",
       "      <td>0.753327</td>\n",
       "    </tr>\n",
       "    <tr>\n",
       "      <th>major_purchase</th>\n",
       "      <td>0.232955</td>\n",
       "      <td>0.767045</td>\n",
       "    </tr>\n",
       "    <tr>\n",
       "      <th>Debt Consolidation</th>\n",
       "      <td>0.228104</td>\n",
       "      <td>0.771896</td>\n",
       "    </tr>\n",
       "    <tr>\n",
       "      <th>other</th>\n",
       "      <td>0.218154</td>\n",
       "      <td>0.781846</td>\n",
       "    </tr>\n",
       "    <tr>\n",
       "      <th>vacation</th>\n",
       "      <td>0.213650</td>\n",
       "      <td>0.786350</td>\n",
       "    </tr>\n",
       "    <tr>\n",
       "      <th>Buy House</th>\n",
       "      <td>0.206490</td>\n",
       "      <td>0.793510</td>\n",
       "    </tr>\n",
       "    <tr>\n",
       "      <th>wedding</th>\n",
       "      <td>0.200000</td>\n",
       "      <td>0.800000</td>\n",
       "    </tr>\n",
       "    <tr>\n",
       "      <th>Home Improvements</th>\n",
       "      <td>0.199178</td>\n",
       "      <td>0.800822</td>\n",
       "    </tr>\n",
       "    <tr>\n",
       "      <th>Educational Expenses</th>\n",
       "      <td>0.181818</td>\n",
       "      <td>0.818182</td>\n",
       "    </tr>\n",
       "    <tr>\n",
       "      <th>Buy a Car</th>\n",
       "      <td>0.160474</td>\n",
       "      <td>0.839526</td>\n",
       "    </tr>\n",
       "  </tbody>\n",
       "</table>\n",
       "</div>"
      ],
      "text/plain": [
       "loan status           Charged Off  Fully Paid\n",
       "purpose                                      \n",
       "small_business           0.420495    0.579505\n",
       "renewable_energy         0.400000    0.600000\n",
       "Business Loan            0.304653    0.695347\n",
       "moving                   0.286667    0.713333\n",
       "Medical Bills            0.246673    0.753327\n",
       "major_purchase           0.232955    0.767045\n",
       "Debt Consolidation       0.228104    0.771896\n",
       "other                    0.218154    0.781846\n",
       "vacation                 0.213650    0.786350\n",
       "Buy House                0.206490    0.793510\n",
       "wedding                  0.200000    0.800000\n",
       "Home Improvements        0.199178    0.800822\n",
       "Educational Expenses     0.181818    0.818182\n",
       "Buy a Car                0.160474    0.839526"
      ]
     },
     "execution_count": 35,
     "metadata": {},
     "output_type": "execute_result"
    }
   ],
   "source": [
    "pd.crosstab(train['purpose'], train['loan status'], normalize='index').sort_values(by='Charged Off', ascending=False)"
   ]
  },
  {
   "cell_type": "code",
   "execution_count": 36,
   "metadata": {},
   "outputs": [
    {
     "data": {
      "image/png": "[encoded data removed]",
      "text/plain": [
       "<Figure size 720x576 with 1 Axes>"
      ]
     },
     "metadata": {
      "needs_background": "light"
     },
     "output_type": "display_data"
    }
   ],
   "source": [
    "pd.crosstab(train['purpose'], train['loan status'], normalize='index').sort_values(by='Charged Off').plot(kind='barh', figsize=(10,8))\n",
    "plt.title('Barplot Purpose of Loan')\n",
    "plt.savefig('purpose.png', bbox_inches =\"tight\", transparent=True, dpi=800)\n",
    "plt.show()"
   ]
  },
  {
   "cell_type": "markdown",
   "metadata": {},
   "source": [
    "Small business memiliki persentase orang gagal bayar yang paling banyak dibandingkan purpose lainnya"
   ]
  },
  {
   "cell_type": "markdown",
   "metadata": {},
   "source": [
    "## Loan Status berdasarkan Years in current job"
   ]
  },
  {
   "cell_type": "code",
   "execution_count": 37,
   "metadata": {},
   "outputs": [
    {
     "data": {
      "image/png": "[encoded data removed]",
      "text/plain": [
       "<Figure size 432x288 with 1 Axes>"
      ]
     },
     "metadata": {
      "needs_background": "light"
     },
     "output_type": "display_data"
    }
   ],
   "source": [
    "train['years in current job'].value_counts().plot(kind='bar')\n",
    "\n",
    "plt.show()"
   ]
  },
  {
   "cell_type": "code",
   "execution_count": 38,
   "metadata": {},
   "outputs": [
    {
     "data": {
      "text/html": [
       "<div>\n",
       "<style scoped>\n",
       "    .dataframe tbody tr th:only-of-type {\n",
       "        vertical-align: middle;\n",
       "    }\n",
       "\n",
       "    .dataframe tbody tr th {\n",
       "        vertical-align: top;\n",
       "    }\n",
       "\n",
       "    .dataframe thead th {\n",
       "        text-align: right;\n",
       "    }\n",
       "</style>\n",
       "<table border=\"1\" class=\"dataframe\">\n",
       "  <thead>\n",
       "    <tr style=\"text-align: right;\">\n",
       "      <th>loan status</th>\n",
       "      <th>Charged Off</th>\n",
       "      <th>Fully Paid</th>\n",
       "    </tr>\n",
       "    <tr>\n",
       "      <th>years in current job</th>\n",
       "      <th></th>\n",
       "      <th></th>\n",
       "    </tr>\n",
       "  </thead>\n",
       "  <tbody>\n",
       "    <tr>\n",
       "      <th>9.0</th>\n",
       "      <td>0.238180</td>\n",
       "      <td>0.761820</td>\n",
       "    </tr>\n",
       "    <tr>\n",
       "      <th>1.0</th>\n",
       "      <td>0.232563</td>\n",
       "      <td>0.767437</td>\n",
       "    </tr>\n",
       "    <tr>\n",
       "      <th>6.0</th>\n",
       "      <td>0.232149</td>\n",
       "      <td>0.767851</td>\n",
       "    </tr>\n",
       "    <tr>\n",
       "      <th>7.0</th>\n",
       "      <td>0.231128</td>\n",
       "      <td>0.768872</td>\n",
       "    </tr>\n",
       "    <tr>\n",
       "      <th>8.0</th>\n",
       "      <td>0.229376</td>\n",
       "      <td>0.770624</td>\n",
       "    </tr>\n",
       "    <tr>\n",
       "      <th>5.0</th>\n",
       "      <td>0.225726</td>\n",
       "      <td>0.774274</td>\n",
       "    </tr>\n",
       "    <tr>\n",
       "      <th>4.0</th>\n",
       "      <td>0.223995</td>\n",
       "      <td>0.776005</td>\n",
       "    </tr>\n",
       "    <tr>\n",
       "      <th>2.0</th>\n",
       "      <td>0.219181</td>\n",
       "      <td>0.780819</td>\n",
       "    </tr>\n",
       "    <tr>\n",
       "      <th>10.0</th>\n",
       "      <td>0.216060</td>\n",
       "      <td>0.783940</td>\n",
       "    </tr>\n",
       "    <tr>\n",
       "      <th>3.0</th>\n",
       "      <td>0.211776</td>\n",
       "      <td>0.788224</td>\n",
       "    </tr>\n",
       "  </tbody>\n",
       "</table>\n",
       "</div>"
      ],
      "text/plain": [
       "loan status           Charged Off  Fully Paid\n",
       "years in current job                         \n",
       "9.0                      0.238180    0.761820\n",
       "1.0                      0.232563    0.767437\n",
       "6.0                      0.232149    0.767851\n",
       "7.0                      0.231128    0.768872\n",
       "8.0                      0.229376    0.770624\n",
       "5.0                      0.225726    0.774274\n",
       "4.0                      0.223995    0.776005\n",
       "2.0                      0.219181    0.780819\n",
       "10.0                     0.216060    0.783940\n",
       "3.0                      0.211776    0.788224"
      ]
     },
     "execution_count": 38,
     "metadata": {},
     "output_type": "execute_result"
    }
   ],
   "source": [
    "pd.crosstab(train['years in current job'], train['loan status'], normalize='index').sort_values(by='Charged Off', ascending=False)"
   ]
  },
  {
   "cell_type": "code",
   "execution_count": 39,
   "metadata": {},
   "outputs": [
    {
     "data": {
      "image/png": "[encoded data removed]",
      "text/plain": [
       "<Figure size 432x288 with 1 Axes>"
      ]
     },
     "metadata": {
      "needs_background": "light"
     },
     "output_type": "display_data"
    }
   ],
   "source": [
    "pd.crosstab(train['years in current job'], train['loan status']).sort_values(by='Charged Off').plot(kind='bar')\n",
    "plt.title('Barplot Years in Current Job')\n",
    "plt.savefig('exploanstatus.png', bbox_inches =\"tight\", transparent=True, dpi=800)\n",
    "plt.show()"
   ]
  },
  {
   "cell_type": "markdown",
   "metadata": {},
   "source": [
    "Berdasarkan data di atas, persentase orang gagal bayar berdasarkan lamanya dia bekerja memiliki perbedaan yang tidak signifikan"
   ]
  },
  {
   "cell_type": "markdown",
   "metadata": {},
   "source": [
    "## Loan Status berdasarkan Home Ownership"
   ]
  },
  {
   "cell_type": "code",
   "execution_count": 40,
   "metadata": {},
   "outputs": [
    {
     "data": {
      "text/plain": [
       "Home Mortgage    48410\n",
       "Rent             42194\n",
       "Own Home          9182\n",
       "HaveMortgage       214\n",
       "Name: home ownership, dtype: int64"
      ]
     },
     "execution_count": 40,
     "metadata": {},
     "output_type": "execute_result"
    }
   ],
   "source": [
    "train['home ownership'].value_counts()"
   ]
  },
  {
   "cell_type": "code",
   "execution_count": 41,
   "metadata": {},
   "outputs": [
    {
     "data": {
      "image/png": "[encoded data removed]",
      "text/plain": [
       "<Figure size 504x288 with 1 Axes>"
      ]
     },
     "metadata": {
      "needs_background": "light"
     },
     "output_type": "display_data"
    }
   ],
   "source": [
    "train['home ownership'].value_counts().plot(kind='barh', figsize=(7,4))\n",
    "\n",
    "plt.show()"
   ]
  },
  {
   "cell_type": "code",
   "execution_count": 42,
   "metadata": {},
   "outputs": [
    {
     "data": {
      "text/html": [
       "<div>\n",
       "<style scoped>\n",
       "    .dataframe tbody tr th:only-of-type {\n",
       "        vertical-align: middle;\n",
       "    }\n",
       "\n",
       "    .dataframe tbody tr th {\n",
       "        vertical-align: top;\n",
       "    }\n",
       "\n",
       "    .dataframe thead th {\n",
       "        text-align: right;\n",
       "    }\n",
       "</style>\n",
       "<table border=\"1\" class=\"dataframe\">\n",
       "  <thead>\n",
       "    <tr style=\"text-align: right;\">\n",
       "      <th>loan status</th>\n",
       "      <th>Charged Off</th>\n",
       "      <th>Fully Paid</th>\n",
       "    </tr>\n",
       "    <tr>\n",
       "      <th>home ownership</th>\n",
       "      <th></th>\n",
       "      <th></th>\n",
       "    </tr>\n",
       "  </thead>\n",
       "  <tbody>\n",
       "    <tr>\n",
       "      <th>Rent</th>\n",
       "      <td>0.251126</td>\n",
       "      <td>0.748874</td>\n",
       "    </tr>\n",
       "    <tr>\n",
       "      <th>Own Home</th>\n",
       "      <td>0.228926</td>\n",
       "      <td>0.771074</td>\n",
       "    </tr>\n",
       "    <tr>\n",
       "      <th>Home Mortgage</th>\n",
       "      <td>0.204710</td>\n",
       "      <td>0.795290</td>\n",
       "    </tr>\n",
       "    <tr>\n",
       "      <th>HaveMortgage</th>\n",
       "      <td>0.144860</td>\n",
       "      <td>0.855140</td>\n",
       "    </tr>\n",
       "  </tbody>\n",
       "</table>\n",
       "</div>"
      ],
      "text/plain": [
       "loan status     Charged Off  Fully Paid\n",
       "home ownership                         \n",
       "Rent               0.251126    0.748874\n",
       "Own Home           0.228926    0.771074\n",
       "Home Mortgage      0.204710    0.795290\n",
       "HaveMortgage       0.144860    0.855140"
      ]
     },
     "execution_count": 42,
     "metadata": {},
     "output_type": "execute_result"
    }
   ],
   "source": [
    "pd.crosstab(train['home ownership'], train['loan status'], normalize='index').sort_values(by='Charged Off', ascending=False)"
   ]
  },
  {
   "cell_type": "code",
   "execution_count": 43,
   "metadata": {},
   "outputs": [
    {
     "data": {
      "image/png": "[encoded data removed]",
      "text/plain": [
       "<Figure size 504x360 with 1 Axes>"
      ]
     },
     "metadata": {
      "needs_background": "light"
     },
     "output_type": "display_data"
    }
   ],
   "source": [
    "pd.crosstab(train['home ownership'], train['loan status']).sort_values(by='Charged Off').plot(kind='bar', figsize=(7,5))\n",
    "plt.title('Barplot Home Ownership')\n",
    "plt.savefig('home.png', bbox_inches =\"tight\", transparent=True, dpi=800)\n",
    "plt.show()"
   ]
  },
  {
   "cell_type": "markdown",
   "metadata": {},
   "source": [
    "nasabah yang rumahnya masih menyewa memiliki persentase gagal bayar terbesar dibandingkan yang lainnya"
   ]
  },
  {
   "cell_type": "markdown",
   "metadata": {},
   "source": [
    "## Number of Credit Problems"
   ]
  },
  {
   "cell_type": "code",
   "execution_count": 44,
   "metadata": {},
   "outputs": [
    {
     "data": {
      "text/html": [
       "<div>\n",
       "<style scoped>\n",
       "    .dataframe tbody tr th:only-of-type {\n",
       "        vertical-align: middle;\n",
       "    }\n",
       "\n",
       "    .dataframe tbody tr th {\n",
       "        vertical-align: top;\n",
       "    }\n",
       "\n",
       "    .dataframe thead th {\n",
       "        text-align: right;\n",
       "    }\n",
       "</style>\n",
       "<table border=\"1\" class=\"dataframe\">\n",
       "  <thead>\n",
       "    <tr style=\"text-align: right;\">\n",
       "      <th>loan status</th>\n",
       "      <th>Charged Off</th>\n",
       "      <th>Fully Paid</th>\n",
       "    </tr>\n",
       "    <tr>\n",
       "      <th>number of credit problems</th>\n",
       "      <th></th>\n",
       "      <th></th>\n",
       "    </tr>\n",
       "  </thead>\n",
       "  <tbody>\n",
       "    <tr>\n",
       "      <th>0.0</th>\n",
       "      <td>19481</td>\n",
       "      <td>66554</td>\n",
       "    </tr>\n",
       "    <tr>\n",
       "      <th>1.0</th>\n",
       "      <td>2704</td>\n",
       "      <td>9373</td>\n",
       "    </tr>\n",
       "    <tr>\n",
       "      <th>2.0</th>\n",
       "      <td>309</td>\n",
       "      <td>990</td>\n",
       "    </tr>\n",
       "    <tr>\n",
       "      <th>3.0</th>\n",
       "      <td>86</td>\n",
       "      <td>292</td>\n",
       "    </tr>\n",
       "    <tr>\n",
       "      <th>4.0</th>\n",
       "      <td>35</td>\n",
       "      <td>90</td>\n",
       "    </tr>\n",
       "    <tr>\n",
       "      <th>5.0</th>\n",
       "      <td>17</td>\n",
       "      <td>32</td>\n",
       "    </tr>\n",
       "    <tr>\n",
       "      <th>6.0</th>\n",
       "      <td>3</td>\n",
       "      <td>14</td>\n",
       "    </tr>\n",
       "    <tr>\n",
       "      <th>7.0</th>\n",
       "      <td>2</td>\n",
       "      <td>6</td>\n",
       "    </tr>\n",
       "    <tr>\n",
       "      <th>9.0</th>\n",
       "      <td>1</td>\n",
       "      <td>1</td>\n",
       "    </tr>\n",
       "    <tr>\n",
       "      <th>12.0</th>\n",
       "      <td>1</td>\n",
       "      <td>0</td>\n",
       "    </tr>\n",
       "    <tr>\n",
       "      <th>8.0</th>\n",
       "      <td>0</td>\n",
       "      <td>4</td>\n",
       "    </tr>\n",
       "    <tr>\n",
       "      <th>10.0</th>\n",
       "      <td>0</td>\n",
       "      <td>2</td>\n",
       "    </tr>\n",
       "    <tr>\n",
       "      <th>11.0</th>\n",
       "      <td>0</td>\n",
       "      <td>2</td>\n",
       "    </tr>\n",
       "    <tr>\n",
       "      <th>15.0</th>\n",
       "      <td>0</td>\n",
       "      <td>1</td>\n",
       "    </tr>\n",
       "  </tbody>\n",
       "</table>\n",
       "</div>"
      ],
      "text/plain": [
       "loan status                Charged Off  Fully Paid\n",
       "number of credit problems                         \n",
       "0.0                              19481       66554\n",
       "1.0                               2704        9373\n",
       "2.0                                309         990\n",
       "3.0                                 86         292\n",
       "4.0                                 35          90\n",
       "5.0                                 17          32\n",
       "6.0                                  3          14\n",
       "7.0                                  2           6\n",
       "9.0                                  1           1\n",
       "12.0                                 1           0\n",
       "8.0                                  0           4\n",
       "10.0                                 0           2\n",
       "11.0                                 0           2\n",
       "15.0                                 0           1"
      ]
     },
     "execution_count": 44,
     "metadata": {},
     "output_type": "execute_result"
    }
   ],
   "source": [
    "pd.crosstab(train['number of credit problems'], train['loan status']).sort_values(by='Charged Off', ascending=False)"
   ]
  },
  {
   "cell_type": "code",
   "execution_count": 45,
   "metadata": {},
   "outputs": [
    {
     "data": {
      "text/html": [
       "<div>\n",
       "<style scoped>\n",
       "    .dataframe tbody tr th:only-of-type {\n",
       "        vertical-align: middle;\n",
       "    }\n",
       "\n",
       "    .dataframe tbody tr th {\n",
       "        vertical-align: top;\n",
       "    }\n",
       "\n",
       "    .dataframe thead th {\n",
       "        text-align: right;\n",
       "    }\n",
       "</style>\n",
       "<table border=\"1\" class=\"dataframe\">\n",
       "  <thead>\n",
       "    <tr style=\"text-align: right;\">\n",
       "      <th></th>\n",
       "      <th>loan id</th>\n",
       "      <th>customer id</th>\n",
       "      <th>loan status</th>\n",
       "      <th>current loan amount</th>\n",
       "      <th>term</th>\n",
       "      <th>credit score</th>\n",
       "      <th>annual income</th>\n",
       "      <th>years in current job</th>\n",
       "      <th>home ownership</th>\n",
       "      <th>purpose</th>\n",
       "      <th>monthly debt</th>\n",
       "      <th>years of credit history</th>\n",
       "      <th>number of open accounts</th>\n",
       "      <th>number of credit problems</th>\n",
       "      <th>current credit balance</th>\n",
       "      <th>maximum open credit</th>\n",
       "      <th>bankruptcies</th>\n",
       "      <th>tax liens</th>\n",
       "    </tr>\n",
       "  </thead>\n",
       "  <tbody>\n",
       "    <tr>\n",
       "      <th>29583</th>\n",
       "      <td>5be5d1c0-b36c-4781-b571-23fe7d8abc0a</td>\n",
       "      <td>cd9ef8c5-03a4-4e4c-a7be-97cec58a5807</td>\n",
       "      <td>Fully Paid</td>\n",
       "      <td>447392.0</td>\n",
       "      <td>Short Term</td>\n",
       "      <td>Excellent</td>\n",
       "      <td>1410294.0</td>\n",
       "      <td>10.0</td>\n",
       "      <td>Own Home</td>\n",
       "      <td>Debt Consolidation</td>\n",
       "      <td>15513.31</td>\n",
       "      <td>20.1</td>\n",
       "      <td>5.0</td>\n",
       "      <td>15.0</td>\n",
       "      <td>301549.0</td>\n",
       "      <td>478984.0</td>\n",
       "      <td>0.0</td>\n",
       "      <td>15.0</td>\n",
       "    </tr>\n",
       "  </tbody>\n",
       "</table>\n",
       "</div>"
      ],
      "text/plain": [
       "                                    loan id  \\\n",
       "29583  5be5d1c0-b36c-4781-b571-23fe7d8abc0a   \n",
       "\n",
       "                                customer id loan status  current loan amount  \\\n",
       "29583  cd9ef8c5-03a4-4e4c-a7be-97cec58a5807  Fully Paid             447392.0   \n",
       "\n",
       "             term credit score  annual income  years in current job  \\\n",
       "29583  Short Term    Excellent      1410294.0                  10.0   \n",
       "\n",
       "      home ownership             purpose  monthly debt  \\\n",
       "29583       Own Home  Debt Consolidation      15513.31   \n",
       "\n",
       "       years of credit history  number of open accounts  \\\n",
       "29583                     20.1                      5.0   \n",
       "\n",
       "       number of credit problems  current credit balance  maximum open credit  \\\n",
       "29583                       15.0                301549.0             478984.0   \n",
       "\n",
       "       bankruptcies  tax liens  \n",
       "29583           0.0       15.0  "
      ]
     },
     "execution_count": 45,
     "metadata": {},
     "output_type": "execute_result"
    }
   ],
   "source": [
    "train[train['number of credit problems']==15]"
   ]
  },
  {
   "cell_type": "markdown",
   "metadata": {},
   "source": [
    "## Bankruptcies"
   ]
  },
  {
   "cell_type": "code",
   "execution_count": 46,
   "metadata": {},
   "outputs": [
    {
     "data": {
      "text/plain": [
       "0.0    88774\n",
       "1.0    10475\n",
       "2.0      417\n",
       "3.0       93\n",
       "4.0       27\n",
       "5.0        7\n",
       "6.0        2\n",
       "7.0        1\n",
       "Name: bankruptcies, dtype: int64"
      ]
     },
     "execution_count": 46,
     "metadata": {},
     "output_type": "execute_result"
    }
   ],
   "source": [
    "train['bankruptcies'].value_counts()"
   ]
  },
  {
   "cell_type": "code",
   "execution_count": 47,
   "metadata": {},
   "outputs": [
    {
     "data": {
      "text/html": [
       "<div>\n",
       "<style scoped>\n",
       "    .dataframe tbody tr th:only-of-type {\n",
       "        vertical-align: middle;\n",
       "    }\n",
       "\n",
       "    .dataframe tbody tr th {\n",
       "        vertical-align: top;\n",
       "    }\n",
       "\n",
       "    .dataframe thead th {\n",
       "        text-align: right;\n",
       "    }\n",
       "</style>\n",
       "<table border=\"1\" class=\"dataframe\">\n",
       "  <thead>\n",
       "    <tr style=\"text-align: right;\">\n",
       "      <th>loan status</th>\n",
       "      <th>Charged Off</th>\n",
       "      <th>Fully Paid</th>\n",
       "    </tr>\n",
       "    <tr>\n",
       "      <th>bankruptcies</th>\n",
       "      <th></th>\n",
       "      <th></th>\n",
       "    </tr>\n",
       "  </thead>\n",
       "  <tbody>\n",
       "    <tr>\n",
       "      <th>0.0</th>\n",
       "      <td>20183</td>\n",
       "      <td>68591</td>\n",
       "    </tr>\n",
       "    <tr>\n",
       "      <th>1.0</th>\n",
       "      <td>2287</td>\n",
       "      <td>8188</td>\n",
       "    </tr>\n",
       "    <tr>\n",
       "      <th>2.0</th>\n",
       "      <td>92</td>\n",
       "      <td>325</td>\n",
       "    </tr>\n",
       "    <tr>\n",
       "      <th>3.0</th>\n",
       "      <td>18</td>\n",
       "      <td>75</td>\n",
       "    </tr>\n",
       "    <tr>\n",
       "      <th>4.0</th>\n",
       "      <td>7</td>\n",
       "      <td>20</td>\n",
       "    </tr>\n",
       "    <tr>\n",
       "      <th>5.0</th>\n",
       "      <td>2</td>\n",
       "      <td>5</td>\n",
       "    </tr>\n",
       "    <tr>\n",
       "      <th>6.0</th>\n",
       "      <td>0</td>\n",
       "      <td>2</td>\n",
       "    </tr>\n",
       "    <tr>\n",
       "      <th>7.0</th>\n",
       "      <td>0</td>\n",
       "      <td>1</td>\n",
       "    </tr>\n",
       "  </tbody>\n",
       "</table>\n",
       "</div>"
      ],
      "text/plain": [
       "loan status   Charged Off  Fully Paid\n",
       "bankruptcies                         \n",
       "0.0                 20183       68591\n",
       "1.0                  2287        8188\n",
       "2.0                    92         325\n",
       "3.0                    18          75\n",
       "4.0                     7          20\n",
       "5.0                     2           5\n",
       "6.0                     0           2\n",
       "7.0                     0           1"
      ]
     },
     "execution_count": 47,
     "metadata": {},
     "output_type": "execute_result"
    }
   ],
   "source": [
    "pd.crosstab(train['bankruptcies'], train['loan status'])"
   ]
  },
  {
   "cell_type": "code",
   "execution_count": 48,
   "metadata": {},
   "outputs": [
    {
     "data": {
      "text/html": [
       "<div>\n",
       "<style scoped>\n",
       "    .dataframe tbody tr th:only-of-type {\n",
       "        vertical-align: middle;\n",
       "    }\n",
       "\n",
       "    .dataframe tbody tr th {\n",
       "        vertical-align: top;\n",
       "    }\n",
       "\n",
       "    .dataframe thead th {\n",
       "        text-align: right;\n",
       "    }\n",
       "</style>\n",
       "<table border=\"1\" class=\"dataframe\">\n",
       "  <thead>\n",
       "    <tr style=\"text-align: right;\">\n",
       "      <th></th>\n",
       "      <th>loan id</th>\n",
       "      <th>customer id</th>\n",
       "      <th>loan status</th>\n",
       "      <th>current loan amount</th>\n",
       "      <th>term</th>\n",
       "      <th>credit score</th>\n",
       "      <th>annual income</th>\n",
       "      <th>years in current job</th>\n",
       "      <th>home ownership</th>\n",
       "      <th>purpose</th>\n",
       "      <th>monthly debt</th>\n",
       "      <th>years of credit history</th>\n",
       "      <th>number of open accounts</th>\n",
       "      <th>number of credit problems</th>\n",
       "      <th>current credit balance</th>\n",
       "      <th>maximum open credit</th>\n",
       "      <th>bankruptcies</th>\n",
       "      <th>tax liens</th>\n",
       "    </tr>\n",
       "  </thead>\n",
       "  <tbody>\n",
       "    <tr>\n",
       "      <th>33682</th>\n",
       "      <td>a02938aa-43cc-4aaa-a2a7-f2fda5654477</td>\n",
       "      <td>bec520de-23c0-4c99-8620-e83163ead72b</td>\n",
       "      <td>Fully Paid</td>\n",
       "      <td>221914.0</td>\n",
       "      <td>Short Term</td>\n",
       "      <td>Excellent</td>\n",
       "      <td>2012366.0</td>\n",
       "      <td>5.0</td>\n",
       "      <td>Rent</td>\n",
       "      <td>Debt Consolidation</td>\n",
       "      <td>20123.66</td>\n",
       "      <td>17.7</td>\n",
       "      <td>11.0</td>\n",
       "      <td>7.0</td>\n",
       "      <td>126597.0</td>\n",
       "      <td>213092.0</td>\n",
       "      <td>7.0</td>\n",
       "      <td>0.0</td>\n",
       "    </tr>\n",
       "  </tbody>\n",
       "</table>\n",
       "</div>"
      ],
      "text/plain": [
       "                                    loan id  \\\n",
       "33682  a02938aa-43cc-4aaa-a2a7-f2fda5654477   \n",
       "\n",
       "                                customer id loan status  current loan amount  \\\n",
       "33682  bec520de-23c0-4c99-8620-e83163ead72b  Fully Paid             221914.0   \n",
       "\n",
       "             term credit score  annual income  years in current job  \\\n",
       "33682  Short Term    Excellent      2012366.0                   5.0   \n",
       "\n",
       "      home ownership             purpose  monthly debt  \\\n",
       "33682           Rent  Debt Consolidation      20123.66   \n",
       "\n",
       "       years of credit history  number of open accounts  \\\n",
       "33682                     17.7                     11.0   \n",
       "\n",
       "       number of credit problems  current credit balance  maximum open credit  \\\n",
       "33682                        7.0                126597.0             213092.0   \n",
       "\n",
       "       bankruptcies  tax liens  \n",
       "33682           7.0        0.0  "
      ]
     },
     "execution_count": 48,
     "metadata": {},
     "output_type": "execute_result"
    }
   ],
   "source": [
    "train[train['bankruptcies']==7]"
   ]
  },
  {
   "cell_type": "markdown",
   "metadata": {},
   "source": [
    "## Tax Liens"
   ]
  },
  {
   "cell_type": "code",
   "execution_count": 49,
   "metadata": {},
   "outputs": [
    {
     "data": {
      "text/plain": [
       "0.0     98062\n",
       "1.0      1343\n",
       "2.0       374\n",
       "3.0       111\n",
       "4.0        58\n",
       "5.0        16\n",
       "6.0        12\n",
       "7.0         7\n",
       "9.0         3\n",
       "11.0        2\n",
       "15.0        1\n",
       "10.0        1\n",
       "Name: tax liens, dtype: int64"
      ]
     },
     "execution_count": 49,
     "metadata": {},
     "output_type": "execute_result"
    }
   ],
   "source": [
    "train['tax liens'].value_counts()"
   ]
  },
  {
   "cell_type": "code",
   "execution_count": 50,
   "metadata": {},
   "outputs": [
    {
     "data": {
      "text/html": [
       "<div>\n",
       "<style scoped>\n",
       "    .dataframe tbody tr th:only-of-type {\n",
       "        vertical-align: middle;\n",
       "    }\n",
       "\n",
       "    .dataframe tbody tr th {\n",
       "        vertical-align: top;\n",
       "    }\n",
       "\n",
       "    .dataframe thead th {\n",
       "        text-align: right;\n",
       "    }\n",
       "</style>\n",
       "<table border=\"1\" class=\"dataframe\">\n",
       "  <thead>\n",
       "    <tr style=\"text-align: right;\">\n",
       "      <th>loan status</th>\n",
       "      <th>Charged Off</th>\n",
       "      <th>Fully Paid</th>\n",
       "    </tr>\n",
       "    <tr>\n",
       "      <th>tax liens</th>\n",
       "      <th></th>\n",
       "      <th></th>\n",
       "    </tr>\n",
       "  </thead>\n",
       "  <tbody>\n",
       "    <tr>\n",
       "      <th>0.0</th>\n",
       "      <td>22150</td>\n",
       "      <td>75912</td>\n",
       "    </tr>\n",
       "    <tr>\n",
       "      <th>1.0</th>\n",
       "      <td>330</td>\n",
       "      <td>1013</td>\n",
       "    </tr>\n",
       "    <tr>\n",
       "      <th>2.0</th>\n",
       "      <td>90</td>\n",
       "      <td>284</td>\n",
       "    </tr>\n",
       "    <tr>\n",
       "      <th>3.0</th>\n",
       "      <td>36</td>\n",
       "      <td>75</td>\n",
       "    </tr>\n",
       "    <tr>\n",
       "      <th>4.0</th>\n",
       "      <td>21</td>\n",
       "      <td>37</td>\n",
       "    </tr>\n",
       "    <tr>\n",
       "      <th>5.0</th>\n",
       "      <td>6</td>\n",
       "      <td>10</td>\n",
       "    </tr>\n",
       "    <tr>\n",
       "      <th>6.0</th>\n",
       "      <td>2</td>\n",
       "      <td>10</td>\n",
       "    </tr>\n",
       "    <tr>\n",
       "      <th>7.0</th>\n",
       "      <td>3</td>\n",
       "      <td>4</td>\n",
       "    </tr>\n",
       "    <tr>\n",
       "      <th>9.0</th>\n",
       "      <td>1</td>\n",
       "      <td>2</td>\n",
       "    </tr>\n",
       "    <tr>\n",
       "      <th>10.0</th>\n",
       "      <td>0</td>\n",
       "      <td>1</td>\n",
       "    </tr>\n",
       "    <tr>\n",
       "      <th>11.0</th>\n",
       "      <td>0</td>\n",
       "      <td>2</td>\n",
       "    </tr>\n",
       "    <tr>\n",
       "      <th>15.0</th>\n",
       "      <td>0</td>\n",
       "      <td>1</td>\n",
       "    </tr>\n",
       "  </tbody>\n",
       "</table>\n",
       "</div>"
      ],
      "text/plain": [
       "loan status  Charged Off  Fully Paid\n",
       "tax liens                           \n",
       "0.0                22150       75912\n",
       "1.0                  330        1013\n",
       "2.0                   90         284\n",
       "3.0                   36          75\n",
       "4.0                   21          37\n",
       "5.0                    6          10\n",
       "6.0                    2          10\n",
       "7.0                    3           4\n",
       "9.0                    1           2\n",
       "10.0                   0           1\n",
       "11.0                   0           2\n",
       "15.0                   0           1"
      ]
     },
     "execution_count": 50,
     "metadata": {},
     "output_type": "execute_result"
    }
   ],
   "source": [
    "pd.crosstab(train['tax liens'], train['loan status'])"
   ]
  },
  {
   "cell_type": "code",
   "execution_count": 51,
   "metadata": {},
   "outputs": [
    {
     "data": {
      "text/html": [
       "<div>\n",
       "<style scoped>\n",
       "    .dataframe tbody tr th:only-of-type {\n",
       "        vertical-align: middle;\n",
       "    }\n",
       "\n",
       "    .dataframe tbody tr th {\n",
       "        vertical-align: top;\n",
       "    }\n",
       "\n",
       "    .dataframe thead th {\n",
       "        text-align: right;\n",
       "    }\n",
       "</style>\n",
       "<table border=\"1\" class=\"dataframe\">\n",
       "  <thead>\n",
       "    <tr style=\"text-align: right;\">\n",
       "      <th></th>\n",
       "      <th>loan id</th>\n",
       "      <th>customer id</th>\n",
       "      <th>loan status</th>\n",
       "      <th>current loan amount</th>\n",
       "      <th>term</th>\n",
       "      <th>credit score</th>\n",
       "      <th>annual income</th>\n",
       "      <th>years in current job</th>\n",
       "      <th>home ownership</th>\n",
       "      <th>purpose</th>\n",
       "      <th>monthly debt</th>\n",
       "      <th>years of credit history</th>\n",
       "      <th>number of open accounts</th>\n",
       "      <th>number of credit problems</th>\n",
       "      <th>current credit balance</th>\n",
       "      <th>maximum open credit</th>\n",
       "      <th>bankruptcies</th>\n",
       "      <th>tax liens</th>\n",
       "    </tr>\n",
       "  </thead>\n",
       "  <tbody>\n",
       "    <tr>\n",
       "      <th>29583</th>\n",
       "      <td>5be5d1c0-b36c-4781-b571-23fe7d8abc0a</td>\n",
       "      <td>cd9ef8c5-03a4-4e4c-a7be-97cec58a5807</td>\n",
       "      <td>Fully Paid</td>\n",
       "      <td>447392.0</td>\n",
       "      <td>Short Term</td>\n",
       "      <td>Excellent</td>\n",
       "      <td>1410294.0</td>\n",
       "      <td>10.0</td>\n",
       "      <td>Own Home</td>\n",
       "      <td>Debt Consolidation</td>\n",
       "      <td>15513.31</td>\n",
       "      <td>20.1</td>\n",
       "      <td>5.0</td>\n",
       "      <td>15.0</td>\n",
       "      <td>301549.0</td>\n",
       "      <td>478984.0</td>\n",
       "      <td>0.0</td>\n",
       "      <td>15.0</td>\n",
       "    </tr>\n",
       "  </tbody>\n",
       "</table>\n",
       "</div>"
      ],
      "text/plain": [
       "                                    loan id  \\\n",
       "29583  5be5d1c0-b36c-4781-b571-23fe7d8abc0a   \n",
       "\n",
       "                                customer id loan status  current loan amount  \\\n",
       "29583  cd9ef8c5-03a4-4e4c-a7be-97cec58a5807  Fully Paid             447392.0   \n",
       "\n",
       "             term credit score  annual income  years in current job  \\\n",
       "29583  Short Term    Excellent      1410294.0                  10.0   \n",
       "\n",
       "      home ownership             purpose  monthly debt  \\\n",
       "29583       Own Home  Debt Consolidation      15513.31   \n",
       "\n",
       "       years of credit history  number of open accounts  \\\n",
       "29583                     20.1                      5.0   \n",
       "\n",
       "       number of credit problems  current credit balance  maximum open credit  \\\n",
       "29583                       15.0                301549.0             478984.0   \n",
       "\n",
       "       bankruptcies  tax liens  \n",
       "29583           0.0       15.0  "
      ]
     },
     "execution_count": 51,
     "metadata": {},
     "output_type": "execute_result"
    }
   ],
   "source": [
    "# number of credit problemsnya 15\n",
    "train[train['tax liens']==15]"
   ]
  },
  {
   "cell_type": "markdown",
   "metadata": {},
   "source": [
    "## Boxplot Current Loan Amount berdasarkan Term dan Loan Status"
   ]
  },
  {
   "cell_type": "code",
   "execution_count": 52,
   "metadata": {},
   "outputs": [
    {
     "data": {
      "image/png": "[encoded data removed]",
      "text/plain": [
       "<Figure size 636.375x360 with 1 Axes>"
      ]
     },
     "metadata": {
      "needs_background": "light"
     },
     "output_type": "display_data"
    }
   ],
   "source": [
    "sns.catplot(x='term', y='current loan amount', hue='loan status',\n",
    "                data=train, kind=\"box\", height=5, aspect=1.5)\n",
    "plt.title('Boxplot Term vs Current Loan Amount')\n",
    "plt.savefig('current term trans.png', bbox_inches =\"tight\", transparent=True, dpi=300)\n",
    "plt.show()"
   ]
  },
  {
   "cell_type": "markdown",
   "metadata": {},
   "source": [
    "## Boxplot Current Loan Amount berdasarkan Credit Score dan Loan Status"
   ]
  },
  {
   "cell_type": "code",
   "execution_count": 53,
   "metadata": {},
   "outputs": [
    {
     "data": {
      "image/png": "[encoded data removed]",
      "text/plain": [
       "<Figure size 816.375x360 with 1 Axes>"
      ]
     },
     "metadata": {
      "needs_background": "light"
     },
     "output_type": "display_data"
    }
   ],
   "source": [
    "sns.catplot(x='credit score', y='current loan amount', hue='loan status',\n",
    "                data=train, kind=\"box\", height=5, aspect=2)\n",
    "plt.title('Boxplot Credit Score vs Current Loan Amount')\n",
    "plt.savefig('credscore.png', bbox_inches =\"tight\", transparent=True, dpi=300)\n",
    "plt.show()"
   ]
  },
  {
   "cell_type": "markdown",
   "metadata": {},
   "source": [
    "## Histplot Numerical Feature"
   ]
  },
  {
   "cell_type": "code",
   "execution_count": 54,
   "metadata": {},
   "outputs": [
    {
     "data": {
      "image/png": "[encoded data removed]",
      "text/plain": [
       "<Figure size 1440x1080 with 12 Axes>"
      ]
     },
     "metadata": {
      "needs_background": "light"
     },
     "output_type": "display_data"
    }
   ],
   "source": [
    "train.hist(figsize=(20,15))\n",
    "plt.savefig('histnum.png', bbox_inches =\"tight\", transparent=True, dpi=800)\n",
    "plt.show()"
   ]
  },
  {
   "cell_type": "markdown",
   "metadata": {},
   "source": [
    "## Histplot Categorical Feature"
   ]
  },
  {
   "cell_type": "code",
   "execution_count": 55,
   "metadata": {},
   "outputs": [
    {
     "data": {
      "image/png": "[encoded data removed]",
      "text/plain": [
       "<Figure size 864x864 with 4 Axes>"
      ]
     },
     "metadata": {
      "needs_background": "light"
     },
     "output_type": "display_data"
    }
   ],
   "source": [
    "plt.figure(figsize=(12,12))\n",
    "plt.subplot(221)\n",
    "train['term'].value_counts().plot(kind='bar')\n",
    "plt.title('Term')\n",
    "plt.subplot(222)\n",
    "train['credit score'].value_counts().plot(kind='bar')\n",
    "plt.title('Credit Score')\n",
    "plt.subplot(223)\n",
    "train['home ownership'].value_counts().plot(kind='bar')\n",
    "plt.title('Home Ownership')\n",
    "plt.subplot(224)\n",
    "train['purpose'].value_counts().plot(kind='bar')\n",
    "plt.title('Purpose')\n",
    "plt.tight_layout()\n",
    "plt.savefig('histcat.png', bbox_inches =\"tight\", transparent=True, dpi=800)\n",
    "plt.show()"
   ]
  },
  {
   "cell_type": "code",
   "execution_count": 56,
   "metadata": {},
   "outputs": [
    {
     "data": {
      "image/png": "[encoded data removed]",
      "text/plain": [
       "<Figure size 1080x720 with 2 Axes>"
      ]
     },
     "metadata": {
      "needs_background": "light"
     },
     "output_type": "display_data"
    }
   ],
   "source": [
    "plt.figure(figsize=(15,10))\n",
    "sns.heatmap(train.corr(), annot=True)\n",
    "plt.title('Correlation Heatmap')\n",
    "plt.savefig('corr.png', bbox_inches =\"tight\", transparent=True, dpi=800)\n",
    "\n",
    "plt.show()"
   ]
  },
  {
   "cell_type": "code",
   "execution_count": null,
   "metadata": {},
   "outputs": [],
   "source": []
  },
  {
   "cell_type": "markdown",
   "metadata": {},
   "source": [
    "## Insight"
   ]
  },
  {
   "cell_type": "markdown",
   "metadata": {},
   "source": [
    "- Persentase orang yang gagal bayar pada long term lebih tinggi dibandingkan pada short term\n",
    "- Semakin buruk credit score nasabah, semakin tinggi persentase nasabah tersebut gagal bayar\n",
    "- Small business memiliki persentase orang gagal bayar yang paling banyak dibandingkan purpose lainnya\n",
    "- Nasabah yang rumahnya masih menyewa memiliki persentase gagal bayar terbesar dibandingkan yang lainnya\n",
    "- Years in current job nasabah tidak memiliki pengaruh yang signifikan terhadap Loan Status nya"
   ]
  },
  {
   "cell_type": "code",
   "execution_count": null,
   "metadata": {},
   "outputs": [],
   "source": []
  }
 ],
 "metadata": {
  "kernelspec": {
   "display_name": "Python 3",
   "language": "python",
   "name": "python3"
  },
  "language_info": {
   "codemirror_mode": {
    "name": "ipython",
    "version": 3
   },
   "file_extension": ".py",
   "mimetype": "text/x-python",
   "name": "python",
   "nbconvert_exporter": "python",
   "pygments_lexer": "ipython3",
   "version": "3.8.5"
  }
 },
 "nbformat": 4,
 "nbformat_minor": 4
}
